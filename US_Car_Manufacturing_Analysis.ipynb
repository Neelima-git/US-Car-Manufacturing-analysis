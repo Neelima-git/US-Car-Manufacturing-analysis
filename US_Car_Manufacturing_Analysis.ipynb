{
  "nbformat": 4,
  "nbformat_minor": 0,
  "metadata": {
    "colab": {
      "name": "US Car Manufacturing Analysis.ipynb",
      "provenance": [],
      "collapsed_sections": []
    },
    "kernelspec": {
      "name": "python3",
      "display_name": "Python 3"
    },
    "language_info": {
      "name": "python"
    }
  },
  "cells": [
    {
      "cell_type": "code",
      "metadata": {
        "id": "TIPxXe-ynx5I"
      },
      "source": [
        "import pandas as pd"
      ],
      "execution_count": null,
      "outputs": []
    },
    {
      "cell_type": "code",
      "metadata": {
        "id": "pUk_Z5SGo1UW"
      },
      "source": [
        "df = pd.read_csv('USA_cars_datasets.csv')"
      ],
      "execution_count": null,
      "outputs": []
    },
    {
      "cell_type": "code",
      "metadata": {
        "colab": {
          "base_uri": "https://localhost:8080/",
          "height": 204
        },
        "id": "porOjkWNpOiW",
        "outputId": "3427ce33-d37f-4720-d61e-4f30c2f21ad5"
      },
      "source": [
        "df.head()"
      ],
      "execution_count": null,
      "outputs": [
        {
          "output_type": "execute_result",
          "data": {
            "text/html": [
              "<div>\n",
              "<style scoped>\n",
              "    .dataframe tbody tr th:only-of-type {\n",
              "        vertical-align: middle;\n",
              "    }\n",
              "\n",
              "    .dataframe tbody tr th {\n",
              "        vertical-align: top;\n",
              "    }\n",
              "\n",
              "    .dataframe thead th {\n",
              "        text-align: right;\n",
              "    }\n",
              "</style>\n",
              "<table border=\"1\" class=\"dataframe\">\n",
              "  <thead>\n",
              "    <tr style=\"text-align: right;\">\n",
              "      <th></th>\n",
              "      <th>Unnamed: 0</th>\n",
              "      <th>price</th>\n",
              "      <th>brand</th>\n",
              "      <th>model</th>\n",
              "      <th>year</th>\n",
              "      <th>title_status</th>\n",
              "      <th>mileage</th>\n",
              "      <th>color</th>\n",
              "      <th>vin</th>\n",
              "      <th>lot</th>\n",
              "      <th>state</th>\n",
              "      <th>country</th>\n",
              "      <th>condition</th>\n",
              "    </tr>\n",
              "  </thead>\n",
              "  <tbody>\n",
              "    <tr>\n",
              "      <th>0</th>\n",
              "      <td>0</td>\n",
              "      <td>6300</td>\n",
              "      <td>toyota</td>\n",
              "      <td>cruiser</td>\n",
              "      <td>2008</td>\n",
              "      <td>clean vehicle</td>\n",
              "      <td>274117.0</td>\n",
              "      <td>black</td>\n",
              "      <td>jtezu11f88k007763</td>\n",
              "      <td>159348797</td>\n",
              "      <td>new jersey</td>\n",
              "      <td>usa</td>\n",
              "      <td>10 days left</td>\n",
              "    </tr>\n",
              "    <tr>\n",
              "      <th>1</th>\n",
              "      <td>1</td>\n",
              "      <td>2899</td>\n",
              "      <td>ford</td>\n",
              "      <td>se</td>\n",
              "      <td>2011</td>\n",
              "      <td>clean vehicle</td>\n",
              "      <td>190552.0</td>\n",
              "      <td>silver</td>\n",
              "      <td>2fmdk3gc4bbb02217</td>\n",
              "      <td>166951262</td>\n",
              "      <td>tennessee</td>\n",
              "      <td>usa</td>\n",
              "      <td>6 days left</td>\n",
              "    </tr>\n",
              "    <tr>\n",
              "      <th>2</th>\n",
              "      <td>2</td>\n",
              "      <td>5350</td>\n",
              "      <td>dodge</td>\n",
              "      <td>mpv</td>\n",
              "      <td>2018</td>\n",
              "      <td>clean vehicle</td>\n",
              "      <td>39590.0</td>\n",
              "      <td>silver</td>\n",
              "      <td>3c4pdcgg5jt346413</td>\n",
              "      <td>167655728</td>\n",
              "      <td>georgia</td>\n",
              "      <td>usa</td>\n",
              "      <td>2 days left</td>\n",
              "    </tr>\n",
              "    <tr>\n",
              "      <th>3</th>\n",
              "      <td>3</td>\n",
              "      <td>25000</td>\n",
              "      <td>ford</td>\n",
              "      <td>door</td>\n",
              "      <td>2014</td>\n",
              "      <td>clean vehicle</td>\n",
              "      <td>64146.0</td>\n",
              "      <td>blue</td>\n",
              "      <td>1ftfw1et4efc23745</td>\n",
              "      <td>167753855</td>\n",
              "      <td>virginia</td>\n",
              "      <td>usa</td>\n",
              "      <td>22 hours left</td>\n",
              "    </tr>\n",
              "    <tr>\n",
              "      <th>4</th>\n",
              "      <td>4</td>\n",
              "      <td>27700</td>\n",
              "      <td>chevrolet</td>\n",
              "      <td>1500</td>\n",
              "      <td>2018</td>\n",
              "      <td>clean vehicle</td>\n",
              "      <td>6654.0</td>\n",
              "      <td>red</td>\n",
              "      <td>3gcpcrec2jg473991</td>\n",
              "      <td>167763266</td>\n",
              "      <td>florida</td>\n",
              "      <td>usa</td>\n",
              "      <td>22 hours left</td>\n",
              "    </tr>\n",
              "  </tbody>\n",
              "</table>\n",
              "</div>"
            ],
            "text/plain": [
              "   Unnamed: 0  price      brand  ...       state  country      condition\n",
              "0           0   6300     toyota  ...  new jersey      usa   10 days left\n",
              "1           1   2899       ford  ...   tennessee      usa    6 days left\n",
              "2           2   5350      dodge  ...     georgia      usa    2 days left\n",
              "3           3  25000       ford  ...    virginia      usa  22 hours left\n",
              "4           4  27700  chevrolet  ...     florida      usa  22 hours left\n",
              "\n",
              "[5 rows x 13 columns]"
            ]
          },
          "metadata": {},
          "execution_count": 3
        }
      ]
    },
    {
      "cell_type": "code",
      "metadata": {
        "colab": {
          "base_uri": "https://localhost:8080/",
          "height": 418
        },
        "id": "oN9CsSuvpPSj",
        "outputId": "386ccc8a-1f74-43a9-e2f8-c1f9071dd015"
      },
      "source": [
        "df"
      ],
      "execution_count": null,
      "outputs": [
        {
          "output_type": "execute_result",
          "data": {
            "text/html": [
              "<div>\n",
              "<style scoped>\n",
              "    .dataframe tbody tr th:only-of-type {\n",
              "        vertical-align: middle;\n",
              "    }\n",
              "\n",
              "    .dataframe tbody tr th {\n",
              "        vertical-align: top;\n",
              "    }\n",
              "\n",
              "    .dataframe thead th {\n",
              "        text-align: right;\n",
              "    }\n",
              "</style>\n",
              "<table border=\"1\" class=\"dataframe\">\n",
              "  <thead>\n",
              "    <tr style=\"text-align: right;\">\n",
              "      <th></th>\n",
              "      <th>Unnamed: 0</th>\n",
              "      <th>price</th>\n",
              "      <th>brand</th>\n",
              "      <th>model</th>\n",
              "      <th>year</th>\n",
              "      <th>title_status</th>\n",
              "      <th>mileage</th>\n",
              "      <th>color</th>\n",
              "      <th>vin</th>\n",
              "      <th>lot</th>\n",
              "      <th>state</th>\n",
              "      <th>country</th>\n",
              "      <th>condition</th>\n",
              "    </tr>\n",
              "  </thead>\n",
              "  <tbody>\n",
              "    <tr>\n",
              "      <th>0</th>\n",
              "      <td>0</td>\n",
              "      <td>6300</td>\n",
              "      <td>toyota</td>\n",
              "      <td>cruiser</td>\n",
              "      <td>2008</td>\n",
              "      <td>clean vehicle</td>\n",
              "      <td>274117.0</td>\n",
              "      <td>black</td>\n",
              "      <td>jtezu11f88k007763</td>\n",
              "      <td>159348797</td>\n",
              "      <td>new jersey</td>\n",
              "      <td>usa</td>\n",
              "      <td>10 days left</td>\n",
              "    </tr>\n",
              "    <tr>\n",
              "      <th>1</th>\n",
              "      <td>1</td>\n",
              "      <td>2899</td>\n",
              "      <td>ford</td>\n",
              "      <td>se</td>\n",
              "      <td>2011</td>\n",
              "      <td>clean vehicle</td>\n",
              "      <td>190552.0</td>\n",
              "      <td>silver</td>\n",
              "      <td>2fmdk3gc4bbb02217</td>\n",
              "      <td>166951262</td>\n",
              "      <td>tennessee</td>\n",
              "      <td>usa</td>\n",
              "      <td>6 days left</td>\n",
              "    </tr>\n",
              "    <tr>\n",
              "      <th>2</th>\n",
              "      <td>2</td>\n",
              "      <td>5350</td>\n",
              "      <td>dodge</td>\n",
              "      <td>mpv</td>\n",
              "      <td>2018</td>\n",
              "      <td>clean vehicle</td>\n",
              "      <td>39590.0</td>\n",
              "      <td>silver</td>\n",
              "      <td>3c4pdcgg5jt346413</td>\n",
              "      <td>167655728</td>\n",
              "      <td>georgia</td>\n",
              "      <td>usa</td>\n",
              "      <td>2 days left</td>\n",
              "    </tr>\n",
              "    <tr>\n",
              "      <th>3</th>\n",
              "      <td>3</td>\n",
              "      <td>25000</td>\n",
              "      <td>ford</td>\n",
              "      <td>door</td>\n",
              "      <td>2014</td>\n",
              "      <td>clean vehicle</td>\n",
              "      <td>64146.0</td>\n",
              "      <td>blue</td>\n",
              "      <td>1ftfw1et4efc23745</td>\n",
              "      <td>167753855</td>\n",
              "      <td>virginia</td>\n",
              "      <td>usa</td>\n",
              "      <td>22 hours left</td>\n",
              "    </tr>\n",
              "    <tr>\n",
              "      <th>4</th>\n",
              "      <td>4</td>\n",
              "      <td>27700</td>\n",
              "      <td>chevrolet</td>\n",
              "      <td>1500</td>\n",
              "      <td>2018</td>\n",
              "      <td>clean vehicle</td>\n",
              "      <td>6654.0</td>\n",
              "      <td>red</td>\n",
              "      <td>3gcpcrec2jg473991</td>\n",
              "      <td>167763266</td>\n",
              "      <td>florida</td>\n",
              "      <td>usa</td>\n",
              "      <td>22 hours left</td>\n",
              "    </tr>\n",
              "    <tr>\n",
              "      <th>...</th>\n",
              "      <td>...</td>\n",
              "      <td>...</td>\n",
              "      <td>...</td>\n",
              "      <td>...</td>\n",
              "      <td>...</td>\n",
              "      <td>...</td>\n",
              "      <td>...</td>\n",
              "      <td>...</td>\n",
              "      <td>...</td>\n",
              "      <td>...</td>\n",
              "      <td>...</td>\n",
              "      <td>...</td>\n",
              "      <td>...</td>\n",
              "    </tr>\n",
              "    <tr>\n",
              "      <th>2494</th>\n",
              "      <td>2494</td>\n",
              "      <td>7800</td>\n",
              "      <td>nissan</td>\n",
              "      <td>versa</td>\n",
              "      <td>2019</td>\n",
              "      <td>clean vehicle</td>\n",
              "      <td>23609.0</td>\n",
              "      <td>red</td>\n",
              "      <td>3n1cn7ap9kl880319</td>\n",
              "      <td>167722715</td>\n",
              "      <td>california</td>\n",
              "      <td>usa</td>\n",
              "      <td>1 days left</td>\n",
              "    </tr>\n",
              "    <tr>\n",
              "      <th>2495</th>\n",
              "      <td>2495</td>\n",
              "      <td>9200</td>\n",
              "      <td>nissan</td>\n",
              "      <td>versa</td>\n",
              "      <td>2018</td>\n",
              "      <td>clean vehicle</td>\n",
              "      <td>34553.0</td>\n",
              "      <td>silver</td>\n",
              "      <td>3n1cn7ap5jl884088</td>\n",
              "      <td>167762225</td>\n",
              "      <td>florida</td>\n",
              "      <td>usa</td>\n",
              "      <td>21 hours left</td>\n",
              "    </tr>\n",
              "    <tr>\n",
              "      <th>2496</th>\n",
              "      <td>2496</td>\n",
              "      <td>9200</td>\n",
              "      <td>nissan</td>\n",
              "      <td>versa</td>\n",
              "      <td>2018</td>\n",
              "      <td>clean vehicle</td>\n",
              "      <td>31594.0</td>\n",
              "      <td>silver</td>\n",
              "      <td>3n1cn7ap9jl884191</td>\n",
              "      <td>167762226</td>\n",
              "      <td>florida</td>\n",
              "      <td>usa</td>\n",
              "      <td>21 hours left</td>\n",
              "    </tr>\n",
              "    <tr>\n",
              "      <th>2497</th>\n",
              "      <td>2497</td>\n",
              "      <td>9200</td>\n",
              "      <td>nissan</td>\n",
              "      <td>versa</td>\n",
              "      <td>2018</td>\n",
              "      <td>clean vehicle</td>\n",
              "      <td>32557.0</td>\n",
              "      <td>black</td>\n",
              "      <td>3n1cn7ap3jl883263</td>\n",
              "      <td>167762227</td>\n",
              "      <td>florida</td>\n",
              "      <td>usa</td>\n",
              "      <td>2 days left</td>\n",
              "    </tr>\n",
              "    <tr>\n",
              "      <th>2498</th>\n",
              "      <td>2498</td>\n",
              "      <td>9200</td>\n",
              "      <td>nissan</td>\n",
              "      <td>versa</td>\n",
              "      <td>2018</td>\n",
              "      <td>clean vehicle</td>\n",
              "      <td>31371.0</td>\n",
              "      <td>silver</td>\n",
              "      <td>3n1cn7ap4jl884311</td>\n",
              "      <td>167762228</td>\n",
              "      <td>florida</td>\n",
              "      <td>usa</td>\n",
              "      <td>21 hours left</td>\n",
              "    </tr>\n",
              "  </tbody>\n",
              "</table>\n",
              "<p>2499 rows × 13 columns</p>\n",
              "</div>"
            ],
            "text/plain": [
              "      Unnamed: 0  price      brand  ...       state  country      condition\n",
              "0              0   6300     toyota  ...  new jersey      usa   10 days left\n",
              "1              1   2899       ford  ...   tennessee      usa    6 days left\n",
              "2              2   5350      dodge  ...     georgia      usa    2 days left\n",
              "3              3  25000       ford  ...    virginia      usa  22 hours left\n",
              "4              4  27700  chevrolet  ...     florida      usa  22 hours left\n",
              "...          ...    ...        ...  ...         ...      ...            ...\n",
              "2494        2494   7800     nissan  ...  california      usa    1 days left\n",
              "2495        2495   9200     nissan  ...     florida      usa  21 hours left\n",
              "2496        2496   9200     nissan  ...     florida      usa  21 hours left\n",
              "2497        2497   9200     nissan  ...     florida      usa    2 days left\n",
              "2498        2498   9200     nissan  ...     florida      usa  21 hours left\n",
              "\n",
              "[2499 rows x 13 columns]"
            ]
          },
          "metadata": {},
          "execution_count": 4
        }
      ]
    },
    {
      "cell_type": "code",
      "metadata": {
        "colab": {
          "base_uri": "https://localhost:8080/"
        },
        "id": "v-SDELKGpuP3",
        "outputId": "cc52ddcc-e5a8-47e7-edfd-a96278291d17"
      },
      "source": [
        "df['price']"
      ],
      "execution_count": null,
      "outputs": [
        {
          "output_type": "execute_result",
          "data": {
            "text/plain": [
              "0        6300\n",
              "1        2899\n",
              "2        5350\n",
              "3       25000\n",
              "4       27700\n",
              "        ...  \n",
              "2494     7800\n",
              "2495     9200\n",
              "2496     9200\n",
              "2497     9200\n",
              "2498     9200\n",
              "Name: price, Length: 2499, dtype: int64"
            ]
          },
          "metadata": {},
          "execution_count": 6
        }
      ]
    },
    {
      "cell_type": "markdown",
      "metadata": {
        "id": "PlCyEb33qHBL"
      },
      "source": [
        "As we can see there are no null values in the dataset. So we are ready with our data to perform operations. "
      ]
    },
    {
      "cell_type": "code",
      "metadata": {
        "colab": {
          "base_uri": "https://localhost:8080/"
        },
        "id": "wNPt6Utip08D",
        "outputId": "b9fe77f7-777c-4097-e3ee-c39a5af5aec4"
      },
      "source": [
        "df.isnull().sum()"
      ],
      "execution_count": null,
      "outputs": [
        {
          "output_type": "execute_result",
          "data": {
            "text/plain": [
              "Unnamed: 0      0\n",
              "price           0\n",
              "brand           0\n",
              "model           0\n",
              "year            0\n",
              "title_status    0\n",
              "mileage         0\n",
              "color           0\n",
              "vin             0\n",
              "lot             0\n",
              "state           0\n",
              "country         0\n",
              "condition       0\n",
              "dtype: int64"
            ]
          },
          "metadata": {},
          "execution_count": 7
        }
      ]
    },
    {
      "cell_type": "markdown",
      "metadata": {
        "id": "V0qJm7SyqaY3"
      },
      "source": [
        "Lets drop some columns which we don't want. "
      ]
    },
    {
      "cell_type": "code",
      "metadata": {
        "colab": {
          "base_uri": "https://localhost:8080/"
        },
        "id": "j_hee2IhqA2T",
        "outputId": "829f8b4a-c721-4e6d-d716-a9fbb10b0120"
      },
      "source": [
        "df['brand']"
      ],
      "execution_count": null,
      "outputs": [
        {
          "output_type": "execute_result",
          "data": {
            "text/plain": [
              "0          toyota\n",
              "1            ford\n",
              "2           dodge\n",
              "3            ford\n",
              "4       chevrolet\n",
              "          ...    \n",
              "2494       nissan\n",
              "2495       nissan\n",
              "2496       nissan\n",
              "2497       nissan\n",
              "2498       nissan\n",
              "Name: brand, Length: 2499, dtype: object"
            ]
          },
          "metadata": {},
          "execution_count": 10
        }
      ]
    },
    {
      "cell_type": "markdown",
      "metadata": {
        "id": "gsI218LPY_AB"
      },
      "source": [
        "The total number of unique brands can be obtained as follows:"
      ]
    },
    {
      "cell_type": "code",
      "metadata": {
        "colab": {
          "base_uri": "https://localhost:8080/"
        },
        "id": "5wP4vJs2YzMH",
        "outputId": "803f09d8-e890-4726-87b2-e20885d15fe7"
      },
      "source": [
        "df['brand'].unique()"
      ],
      "execution_count": null,
      "outputs": [
        {
          "output_type": "execute_result",
          "data": {
            "text/plain": [
              "array(['toyota', 'ford', 'dodge', 'chevrolet', 'gmc', 'chrysler', 'kia',\n",
              "       'buick', 'infiniti', 'mercedes-benz', 'jeep', 'bmw', 'cadillac',\n",
              "       'hyundai', 'mazda', 'honda', 'heartland', 'jaguar', 'acura',\n",
              "       'harley-davidson', 'audi', 'lincoln', 'lexus', 'nissan', 'land',\n",
              "       'maserati', 'peterbilt', 'ram'], dtype=object)"
            ]
          },
          "metadata": {},
          "execution_count": 11
        }
      ]
    },
    {
      "cell_type": "markdown",
      "metadata": {
        "id": "fPeuYs1TZHr3"
      },
      "source": [
        "We can check this total number of unique brands using the length for the above unique() function. "
      ]
    },
    {
      "cell_type": "code",
      "metadata": {
        "colab": {
          "base_uri": "https://localhost:8080/"
        },
        "id": "dDO9TbAeY-Nf",
        "outputId": "d4da129c-4eac-448b-98e7-d6022d7caade"
      },
      "source": [
        "len(df['brand'].unique())"
      ],
      "execution_count": null,
      "outputs": [
        {
          "output_type": "execute_result",
          "data": {
            "text/plain": [
              "28"
            ]
          },
          "metadata": {},
          "execution_count": 12
        }
      ]
    },
    {
      "cell_type": "code",
      "metadata": {
        "colab": {
          "base_uri": "https://localhost:8080/"
        },
        "id": "rZkHuj-HZVPK",
        "outputId": "810fce5b-88eb-4407-bc12-f9842dc058b5"
      },
      "source": [
        "df['model'].unique()"
      ],
      "execution_count": null,
      "outputs": [
        {
          "output_type": "execute_result",
          "data": {
            "text/plain": [
              "array(['cruiser', 'se', 'mpv', 'door', '1500', 'pk', 'malibu', 'coupe',\n",
              "       'wagon', 'forte', 'encore', 'sorento', 'doors', 'chassis', 'q70',\n",
              "       'camaro', 'convertible', 'vans', 'srw', 'compass', 'enclave',\n",
              "       '300', 'cherokee', 'pacifica', 'x3', 'equinox', 'challenger', 'm',\n",
              "       'colorado', 'focus', 'durango', 'escape', 'charger', 'explorer',\n",
              "       'f-150', '3500', 'caravan', 'van', 'dart', '2500', 'esv',\n",
              "       'cutaway', 'el', 'edge', 'series', 'flex', 'srx', 'cab', 'pickup',\n",
              "       'vehicl', 'trax', 'tahoe', 'suburban', 'cargo', 'drw', 'fiesta',\n",
              "       'impala', 'soul', 'elantra', 'pioneer', 'trail', 'traverse',\n",
              "       'country', 'sundance', 'road/street', 'nautilus', 'gx', 'q5',\n",
              "       'gle', 'sportage', '5', 'sport', 'discovery', 'acadia', 'ghibli',\n",
              "       'glc', 'e-class', 'truck', 'utility', 'limited', 'sl-class',\n",
              "       'cx-3', '2500hd', 'sonic', 'corvette', 'mdx', 'xt5', 'fusion',\n",
              "       'mustang', 'passenger', 'volt', 'spark', 'cruze', 'ld', 'journey',\n",
              "       'transit', 'ranger', 'taurus', 'max', 'energi', 'expedition',\n",
              "       'bus', 'ecosport', 'f-750', 'd', 'dr', 'hybrid', 'suv', 'connect',\n",
              "       'f-650', 'sentra', 'altima', 'frontier', 'rogue', 'maxima',\n",
              "       'versa', 'note', 'armada', 'pathfinder', 'titan', 'sedan', 'juke',\n",
              "       'murano', 'xterra', 'kicks', 'xd', 'nvp'], dtype=object)"
            ]
          },
          "metadata": {},
          "execution_count": 14
        }
      ]
    },
    {
      "cell_type": "markdown",
      "metadata": {
        "id": "fJxD8fzuZk8G"
      },
      "source": [
        "There are 127 unique models of cars in this dataset. "
      ]
    },
    {
      "cell_type": "code",
      "metadata": {
        "colab": {
          "base_uri": "https://localhost:8080/"
        },
        "id": "ZXlqOh0wZcDO",
        "outputId": "102ccb5a-b892-4db2-d5fb-1f64b1827f62"
      },
      "source": [
        "len(df['model'].unique())"
      ],
      "execution_count": null,
      "outputs": [
        {
          "output_type": "execute_result",
          "data": {
            "text/plain": [
              "127"
            ]
          },
          "metadata": {},
          "execution_count": 15
        }
      ]
    },
    {
      "cell_type": "markdown",
      "metadata": {
        "id": "yIW7yeYHZ57Y"
      },
      "source": [
        "Now we can analyse the years for which this data is there. \n",
        "\n",
        "So as we saw this US car data is there from 1973 to 2020."
      ]
    },
    {
      "cell_type": "code",
      "metadata": {
        "colab": {
          "base_uri": "https://localhost:8080/"
        },
        "id": "qeUJAMTvZjER",
        "outputId": "832eecf8-c917-4dd2-ea15-5374d6ae815c"
      },
      "source": [
        "df['year'].unique()"
      ],
      "execution_count": null,
      "outputs": [
        {
          "output_type": "execute_result",
          "data": {
            "text/plain": [
              "array([2008, 2011, 2018, 2014, 2010, 2017, 2009, 2013, 2015, 2020, 2016,\n",
              "       1973, 2003, 2019, 2002, 2000, 2001, 2005, 2012, 2006, 2007, 1998,\n",
              "       2004, 1994, 1997, 1996, 1999, 1984, 1995, 1993])"
            ]
          },
          "metadata": {},
          "execution_count": 16
        }
      ]
    },
    {
      "cell_type": "code",
      "metadata": {
        "colab": {
          "base_uri": "https://localhost:8080/"
        },
        "id": "XfAa5h3xZxYX",
        "outputId": "6675e970-3b4d-4a78-be87-f5e3e52aa81a"
      },
      "source": [
        "min(df['year'].unique())"
      ],
      "execution_count": null,
      "outputs": [
        {
          "output_type": "execute_result",
          "data": {
            "text/plain": [
              "1973"
            ]
          },
          "metadata": {},
          "execution_count": 17
        }
      ]
    },
    {
      "cell_type": "code",
      "metadata": {
        "colab": {
          "base_uri": "https://localhost:8080/"
        },
        "id": "60hVbfDwZ1EY",
        "outputId": "f74397fc-647b-4f2a-9ab0-75ba08aeda5f"
      },
      "source": [
        "max(df['year'].unique())"
      ],
      "execution_count": null,
      "outputs": [
        {
          "output_type": "execute_result",
          "data": {
            "text/plain": [
              "2020"
            ]
          },
          "metadata": {},
          "execution_count": 18
        }
      ]
    },
    {
      "cell_type": "markdown",
      "metadata": {
        "id": "QJDj-__gaguK"
      },
      "source": [
        "Now we can go for title_status and check which are the type of vehicles we are having, because that is also our concern. "
      ]
    },
    {
      "cell_type": "code",
      "metadata": {
        "colab": {
          "base_uri": "https://localhost:8080/"
        },
        "id": "48hnMHH3Z2pK",
        "outputId": "9d7e71d6-a3f0-4be6-afdf-280aaefa729c"
      },
      "source": [
        "df['title_status'].unique()"
      ],
      "execution_count": null,
      "outputs": [
        {
          "output_type": "execute_result",
          "data": {
            "text/plain": [
              "array(['clean vehicle', 'salvage insurance'], dtype=object)"
            ]
          },
          "metadata": {},
          "execution_count": 19
        }
      ]
    },
    {
      "cell_type": "markdown",
      "metadata": {
        "id": "PrchzJXha6Wi"
      },
      "source": [
        "We are even having lot of colors for cars. Lets check them out. "
      ]
    },
    {
      "cell_type": "code",
      "metadata": {
        "colab": {
          "base_uri": "https://localhost:8080/"
        },
        "id": "dF1nycfdaaHV",
        "outputId": "34820a2c-144e-4397-b220-3e5630c2faa0"
      },
      "source": [
        "df['color'].unique()"
      ],
      "execution_count": null,
      "outputs": [
        {
          "output_type": "execute_result",
          "data": {
            "text/plain": [
              "array(['black', 'silver', 'blue', 'red', 'white', 'gray', 'orange',\n",
              "       'brown', 'no_color', 'gold', 'charcoal', 'turquoise', 'beige',\n",
              "       'green', 'dark blue', 'maroon', 'phantom black', 'yellow',\n",
              "       'color:', 'light blue', 'toreador red', 'bright white clearcoat',\n",
              "       'billet silver metallic clearcoat', 'black clearcoat',\n",
              "       'jazz blue pearlcoat', 'purple',\n",
              "       'ruby red metallic tinted clearcoat', 'triple yellow tri-coat',\n",
              "       'competition orange', 'off-white', 'shadow black',\n",
              "       'magnetic metallic', 'ingot silver metallic', 'ruby red',\n",
              "       'royal crimson metallic tinted clearcoat', 'kona blue metallic',\n",
              "       'oxford white', 'lightning blue', 'ingot silver',\n",
              "       'white platinum tri-coat metallic', 'guard',\n",
              "       'tuxedo black metallic', 'tan', 'burgundy', 'super black',\n",
              "       'cayenne red', 'morningsky blue', 'pearl white', 'glacier white'],\n",
              "      dtype=object)"
            ]
          },
          "metadata": {},
          "execution_count": 20
        }
      ]
    },
    {
      "cell_type": "code",
      "metadata": {
        "colab": {
          "base_uri": "https://localhost:8080/"
        },
        "id": "a5uz0qIya4eq",
        "outputId": "e69e2841-324a-4b23-fc4a-c040fa50b1a8"
      },
      "source": [
        "len(df['color'].unique())"
      ],
      "execution_count": null,
      "outputs": [
        {
          "output_type": "execute_result",
          "data": {
            "text/plain": [
              "49"
            ]
          },
          "metadata": {},
          "execution_count": 21
        }
      ]
    },
    {
      "cell_type": "code",
      "metadata": {
        "colab": {
          "base_uri": "https://localhost:8080/"
        },
        "id": "eJJB9PV1bEsN",
        "outputId": "d94ad308-f5e0-403e-9dba-bec4a4d3aa7a"
      },
      "source": [
        "df['state'].unique()"
      ],
      "execution_count": null,
      "outputs": [
        {
          "output_type": "execute_result",
          "data": {
            "text/plain": [
              "array(['new jersey', 'tennessee', 'georgia', 'virginia', 'florida',\n",
              "       'texas', 'california', 'north carolina', 'ohio', 'new york',\n",
              "       'pennsylvania', 'south carolina', 'michigan', 'washington',\n",
              "       'arizona', 'utah', 'kentucky', 'massachusetts', 'nebraska',\n",
              "       'ontario', 'missouri', 'minnesota', 'oklahoma', 'connecticut',\n",
              "       'indiana', 'arkansas', 'kansas', 'wyoming', 'colorado', 'illinois',\n",
              "       'wisconsin', 'mississippi', 'maryland', 'oregon', 'west virginia',\n",
              "       'nevada', 'rhode island', 'louisiana', 'alabama', 'new mexico',\n",
              "       'idaho', 'new hampshire', 'montana', 'vermont'], dtype=object)"
            ]
          },
          "metadata": {},
          "execution_count": 23
        }
      ]
    },
    {
      "cell_type": "code",
      "metadata": {
        "colab": {
          "base_uri": "https://localhost:8080/"
        },
        "id": "1HOaHx4gcCG6",
        "outputId": "d56a7380-03cb-4a3f-8e37-8adfea812998"
      },
      "source": [
        "df['country'].unique()"
      ],
      "execution_count": null,
      "outputs": [
        {
          "output_type": "execute_result",
          "data": {
            "text/plain": [
              "array([' usa', ' canada'], dtype=object)"
            ]
          },
          "metadata": {},
          "execution_count": 24
        }
      ]
    },
    {
      "cell_type": "markdown",
      "metadata": {
        "id": "gbe0tMwtcdMZ"
      },
      "source": [
        "Now lets work on some numerical data like price. We can perform various arithmetic operations on price. "
      ]
    },
    {
      "cell_type": "markdown",
      "metadata": {
        "id": "TWzl6XAGcyZm"
      },
      "source": [
        "Here, the sum() function will sum up all the rows(2499) for the price column(price of all the vehicles) and give the overall sum"
      ]
    },
    {
      "cell_type": "code",
      "metadata": {
        "colab": {
          "base_uri": "https://localhost:8080/"
        },
        "id": "hQ60jVcTcH8t",
        "outputId": "c9d0aab1-60b2-4f6a-fd05-791aaa99be2e"
      },
      "source": [
        "df['price'].sum()"
      ],
      "execution_count": null,
      "outputs": [
        {
          "output_type": "execute_result",
          "data": {
            "text/plain": [
              "46900411"
            ]
          },
          "metadata": {},
          "execution_count": 25
        }
      ]
    },
    {
      "cell_type": "code",
      "metadata": {
        "colab": {
          "base_uri": "https://localhost:8080/"
        },
        "id": "kBTFVjcUcwQe",
        "outputId": "3f8164e8-0159-4d22-ce51-bc29e37a040c"
      },
      "source": [
        "len(df['price'])"
      ],
      "execution_count": null,
      "outputs": [
        {
          "output_type": "execute_result",
          "data": {
            "text/plain": [
              "2499"
            ]
          },
          "metadata": {},
          "execution_count": 26
        }
      ]
    },
    {
      "cell_type": "markdown",
      "metadata": {
        "id": "IzkOHT5jdSQL"
      },
      "source": [
        "So the average price of the vehicle can be calculated by adding all the prices and dividing by total number of vehicles. "
      ]
    },
    {
      "cell_type": "code",
      "metadata": {
        "colab": {
          "base_uri": "https://localhost:8080/"
        },
        "id": "G3Le6q8GdOnk",
        "outputId": "decb1473-bf58-45ec-b856-15e803998efd"
      },
      "source": [
        "df['price'].sum() / len(df['price'])"
      ],
      "execution_count": null,
      "outputs": [
        {
          "output_type": "execute_result",
          "data": {
            "text/plain": [
              "18767.671468587436"
            ]
          },
          "metadata": {},
          "execution_count": 27
        }
      ]
    },
    {
      "cell_type": "markdown",
      "metadata": {
        "id": "vi5wcM62dpr2"
      },
      "source": [
        "If we want this in integer, we can simply do"
      ]
    },
    {
      "cell_type": "code",
      "metadata": {
        "colab": {
          "base_uri": "https://localhost:8080/"
        },
        "id": "D-2m-NVwdlVR",
        "outputId": "79b7cb29-c290-4e44-dfb8-21d8497b897d"
      },
      "source": [
        "df['price'].sum() // len(df['price'])"
      ],
      "execution_count": null,
      "outputs": [
        {
          "output_type": "execute_result",
          "data": {
            "text/plain": [
              "18767"
            ]
          },
          "metadata": {},
          "execution_count": 28
        }
      ]
    },
    {
      "cell_type": "markdown",
      "metadata": {
        "id": "PAn8TZ4Cdyjn"
      },
      "source": [
        "As we have seen the average price of the vehicles is 18767. "
      ]
    },
    {
      "cell_type": "markdown",
      "metadata": {
        "id": "llAAgR8Ad6hr"
      },
      "source": [
        "We can similarly find average milage for the cars, lets look into it! This can't actually be said as milage but its average kilometers the car is driven. "
      ]
    },
    {
      "cell_type": "code",
      "metadata": {
        "colab": {
          "base_uri": "https://localhost:8080/"
        },
        "id": "jy9liygddwLN",
        "outputId": "91273abf-6d93-4fca-f558-45d7acab9e3c"
      },
      "source": [
        "df['mileage'].sum() / len(df['mileage'])"
      ],
      "execution_count": null,
      "outputs": [
        {
          "output_type": "execute_result",
          "data": {
            "text/plain": [
              "52298.685474189675"
            ]
          },
          "metadata": {},
          "execution_count": 30
        }
      ]
    },
    {
      "cell_type": "markdown",
      "metadata": {
        "id": "ZrU7kEaGe353"
      },
      "source": [
        "**NOTE:** Dealing with numbers and dealing with category is different. Those both are two different things. \n",
        "\n",
        "*   brand, model, year, title_status, color, are all categories.\n",
        "*   mileage is not a category, its a number\n",
        "\n",
        "\n",
        "\n"
      ]
    },
    {
      "cell_type": "markdown",
      "metadata": {
        "id": "uAPypdYKfj4h"
      },
      "source": [
        "And now lets delete the uncessary columns for now which won't require like vin, lot"
      ]
    },
    {
      "cell_type": "code",
      "metadata": {
        "id": "NblhgA1meN2x"
      },
      "source": [
        "del df['vin']\n",
        "del df['lot']\n",
        "del df['condition']\n",
        "del df['Unnamed: 0']"
      ],
      "execution_count": null,
      "outputs": []
    },
    {
      "cell_type": "markdown",
      "metadata": {
        "id": "32Momjkkgk6c"
      },
      "source": [
        "Now lets look at the data frame, as we can see the unwanted columns are dropped. "
      ]
    },
    {
      "cell_type": "code",
      "metadata": {
        "colab": {
          "base_uri": "https://localhost:8080/",
          "height": 204
        },
        "id": "x7Jm_iHzgK6W",
        "outputId": "1e1188da-4b71-4f2d-8337-559e0490d999"
      },
      "source": [
        "df.head()"
      ],
      "execution_count": null,
      "outputs": [
        {
          "output_type": "execute_result",
          "data": {
            "text/html": [
              "<div>\n",
              "<style scoped>\n",
              "    .dataframe tbody tr th:only-of-type {\n",
              "        vertical-align: middle;\n",
              "    }\n",
              "\n",
              "    .dataframe tbody tr th {\n",
              "        vertical-align: top;\n",
              "    }\n",
              "\n",
              "    .dataframe thead th {\n",
              "        text-align: right;\n",
              "    }\n",
              "</style>\n",
              "<table border=\"1\" class=\"dataframe\">\n",
              "  <thead>\n",
              "    <tr style=\"text-align: right;\">\n",
              "      <th></th>\n",
              "      <th>price</th>\n",
              "      <th>brand</th>\n",
              "      <th>model</th>\n",
              "      <th>year</th>\n",
              "      <th>title_status</th>\n",
              "      <th>mileage</th>\n",
              "      <th>color</th>\n",
              "      <th>state</th>\n",
              "      <th>country</th>\n",
              "    </tr>\n",
              "  </thead>\n",
              "  <tbody>\n",
              "    <tr>\n",
              "      <th>0</th>\n",
              "      <td>6300</td>\n",
              "      <td>toyota</td>\n",
              "      <td>cruiser</td>\n",
              "      <td>2008</td>\n",
              "      <td>clean vehicle</td>\n",
              "      <td>274117.0</td>\n",
              "      <td>black</td>\n",
              "      <td>new jersey</td>\n",
              "      <td>usa</td>\n",
              "    </tr>\n",
              "    <tr>\n",
              "      <th>1</th>\n",
              "      <td>2899</td>\n",
              "      <td>ford</td>\n",
              "      <td>se</td>\n",
              "      <td>2011</td>\n",
              "      <td>clean vehicle</td>\n",
              "      <td>190552.0</td>\n",
              "      <td>silver</td>\n",
              "      <td>tennessee</td>\n",
              "      <td>usa</td>\n",
              "    </tr>\n",
              "    <tr>\n",
              "      <th>2</th>\n",
              "      <td>5350</td>\n",
              "      <td>dodge</td>\n",
              "      <td>mpv</td>\n",
              "      <td>2018</td>\n",
              "      <td>clean vehicle</td>\n",
              "      <td>39590.0</td>\n",
              "      <td>silver</td>\n",
              "      <td>georgia</td>\n",
              "      <td>usa</td>\n",
              "    </tr>\n",
              "    <tr>\n",
              "      <th>3</th>\n",
              "      <td>25000</td>\n",
              "      <td>ford</td>\n",
              "      <td>door</td>\n",
              "      <td>2014</td>\n",
              "      <td>clean vehicle</td>\n",
              "      <td>64146.0</td>\n",
              "      <td>blue</td>\n",
              "      <td>virginia</td>\n",
              "      <td>usa</td>\n",
              "    </tr>\n",
              "    <tr>\n",
              "      <th>4</th>\n",
              "      <td>27700</td>\n",
              "      <td>chevrolet</td>\n",
              "      <td>1500</td>\n",
              "      <td>2018</td>\n",
              "      <td>clean vehicle</td>\n",
              "      <td>6654.0</td>\n",
              "      <td>red</td>\n",
              "      <td>florida</td>\n",
              "      <td>usa</td>\n",
              "    </tr>\n",
              "  </tbody>\n",
              "</table>\n",
              "</div>"
            ],
            "text/plain": [
              "   price      brand    model  year  ...   mileage   color       state country\n",
              "0   6300     toyota  cruiser  2008  ...  274117.0   black  new jersey     usa\n",
              "1   2899       ford       se  2011  ...  190552.0  silver   tennessee     usa\n",
              "2   5350      dodge      mpv  2018  ...   39590.0  silver     georgia     usa\n",
              "3  25000       ford     door  2014  ...   64146.0    blue    virginia     usa\n",
              "4  27700  chevrolet     1500  2018  ...    6654.0     red     florida     usa\n",
              "\n",
              "[5 rows x 9 columns]"
            ]
          },
          "metadata": {},
          "execution_count": 7
        }
      ]
    },
    {
      "cell_type": "markdown",
      "metadata": {
        "id": "TEvm0ZS7iTiS"
      },
      "source": [
        "We can find the maximum price of the car. It can be done in two ways as follows:"
      ]
    },
    {
      "cell_type": "code",
      "metadata": {
        "colab": {
          "base_uri": "https://localhost:8080/"
        },
        "id": "pkeyXtnigNvS",
        "outputId": "9f2a27f6-2b5b-4deb-8941-d61e69378113"
      },
      "source": [
        "df['price'].max()"
      ],
      "execution_count": null,
      "outputs": [
        {
          "output_type": "execute_result",
          "data": {
            "text/plain": [
              "84900"
            ]
          },
          "metadata": {},
          "execution_count": 37
        }
      ]
    },
    {
      "cell_type": "code",
      "metadata": {
        "colab": {
          "base_uri": "https://localhost:8080/"
        },
        "id": "4TtO8LgniK5l",
        "outputId": "ab8281db-6a82-460d-96c8-90c9ea4a541d"
      },
      "source": [
        "max(df['price'])"
      ],
      "execution_count": null,
      "outputs": [
        {
          "output_type": "execute_result",
          "data": {
            "text/plain": [
              "84900"
            ]
          },
          "metadata": {},
          "execution_count": 38
        }
      ]
    },
    {
      "cell_type": "markdown",
      "metadata": {
        "id": "_4MijeFFircw"
      },
      "source": [
        "Similarly we can even fin the minimum price of the car. Haha, its showing 0. Their might be an error while entering the data or misconception because every car does have a price. "
      ]
    },
    {
      "cell_type": "code",
      "metadata": {
        "colab": {
          "base_uri": "https://localhost:8080/"
        },
        "id": "fkJYeqFciR_c",
        "outputId": "5d39337c-d3a5-4e86-aa8c-9b277ac981aa"
      },
      "source": [
        "df['price'].min()"
      ],
      "execution_count": null,
      "outputs": [
        {
          "output_type": "execute_result",
          "data": {
            "text/plain": [
              "0"
            ]
          },
          "metadata": {},
          "execution_count": 39
        }
      ]
    },
    {
      "cell_type": "markdown",
      "metadata": {
        "id": "9It18jHPjNhn"
      },
      "source": [
        "Similarly we can find out minimum and maximum mileage!"
      ]
    },
    {
      "cell_type": "code",
      "metadata": {
        "colab": {
          "base_uri": "https://localhost:8080/"
        },
        "id": "JrAM6sxbipwL",
        "outputId": "566fd426-e872-4ff5-c353-8352e4bafffe"
      },
      "source": [
        "df['mileage'].max()"
      ],
      "execution_count": null,
      "outputs": [
        {
          "output_type": "execute_result",
          "data": {
            "text/plain": [
              "1017936.0"
            ]
          },
          "metadata": {},
          "execution_count": 40
        }
      ]
    },
    {
      "cell_type": "code",
      "metadata": {
        "colab": {
          "base_uri": "https://localhost:8080/"
        },
        "id": "2lEEmz9zjWbX",
        "outputId": "4883a2e4-ca18-4e46-d1ab-d994b4c5ca73"
      },
      "source": [
        "df['mileage'].min()"
      ],
      "execution_count": null,
      "outputs": [
        {
          "output_type": "execute_result",
          "data": {
            "text/plain": [
              "0.0"
            ]
          },
          "metadata": {},
          "execution_count": 41
        }
      ]
    },
    {
      "cell_type": "markdown",
      "metadata": {
        "id": "6-pxvgCHjbz_"
      },
      "source": [
        "# Data Analysis\n",
        "\n",
        "Lets move on to data analysis!"
      ]
    },
    {
      "cell_type": "markdown",
      "metadata": {
        "id": "9S3Pd74HjvSx"
      },
      "source": [
        "Lets suppose we want to find out the number of cars in the toyata brand. We can use conditions, direct conditions or we can do something like follows"
      ]
    },
    {
      "cell_type": "code",
      "metadata": {
        "colab": {
          "base_uri": "https://localhost:8080/"
        },
        "id": "wQkR5d4kjas2",
        "outputId": "2c5c7400-3b98-4cda-ad8b-5916de994521"
      },
      "source": [
        "df['brand'] == 'toyota'"
      ],
      "execution_count": null,
      "outputs": [
        {
          "output_type": "execute_result",
          "data": {
            "text/plain": [
              "0        True\n",
              "1       False\n",
              "2       False\n",
              "3       False\n",
              "4       False\n",
              "        ...  \n",
              "2494    False\n",
              "2495    False\n",
              "2496    False\n",
              "2497    False\n",
              "2498    False\n",
              "Name: brand, Length: 2499, dtype: bool"
            ]
          },
          "metadata": {},
          "execution_count": 42
        }
      ]
    },
    {
      "cell_type": "markdown",
      "metadata": {
        "id": "BLGYI4kHlK1d"
      },
      "source": [
        "So this way we are retriving all the cars where we have brand toyota. "
      ]
    },
    {
      "cell_type": "code",
      "metadata": {
        "colab": {
          "base_uri": "https://localhost:8080/",
          "height": 80
        },
        "id": "i97F40RIkNOk",
        "outputId": "8f0866b4-029c-4a74-9d2f-6a9e4df2ea70"
      },
      "source": [
        "df[df['brand'] == 'toyota']"
      ],
      "execution_count": null,
      "outputs": [
        {
          "output_type": "execute_result",
          "data": {
            "text/html": [
              "<div>\n",
              "<style scoped>\n",
              "    .dataframe tbody tr th:only-of-type {\n",
              "        vertical-align: middle;\n",
              "    }\n",
              "\n",
              "    .dataframe tbody tr th {\n",
              "        vertical-align: top;\n",
              "    }\n",
              "\n",
              "    .dataframe thead th {\n",
              "        text-align: right;\n",
              "    }\n",
              "</style>\n",
              "<table border=\"1\" class=\"dataframe\">\n",
              "  <thead>\n",
              "    <tr style=\"text-align: right;\">\n",
              "      <th></th>\n",
              "      <th>price</th>\n",
              "      <th>brand</th>\n",
              "      <th>model</th>\n",
              "      <th>year</th>\n",
              "      <th>title_status</th>\n",
              "      <th>mileage</th>\n",
              "      <th>color</th>\n",
              "      <th>state</th>\n",
              "      <th>country</th>\n",
              "    </tr>\n",
              "  </thead>\n",
              "  <tbody>\n",
              "    <tr>\n",
              "      <th>0</th>\n",
              "      <td>6300</td>\n",
              "      <td>toyota</td>\n",
              "      <td>cruiser</td>\n",
              "      <td>2008</td>\n",
              "      <td>clean vehicle</td>\n",
              "      <td>274117.0</td>\n",
              "      <td>black</td>\n",
              "      <td>new jersey</td>\n",
              "      <td>usa</td>\n",
              "    </tr>\n",
              "  </tbody>\n",
              "</table>\n",
              "</div>"
            ],
            "text/plain": [
              "   price   brand    model  year  ...   mileage  color       state country\n",
              "0   6300  toyota  cruiser  2008  ...  274117.0  black  new jersey     usa\n",
              "\n",
              "[1 rows x 9 columns]"
            ]
          },
          "metadata": {},
          "execution_count": 18
        }
      ]
    },
    {
      "cell_type": "markdown",
      "metadata": {
        "id": "VZcLuxxklauf"
      },
      "source": [
        "In toyota we have only 1 car"
      ]
    },
    {
      "cell_type": "code",
      "metadata": {
        "colab": {
          "base_uri": "https://localhost:8080/"
        },
        "id": "SWz2XTEkkatU",
        "outputId": "5e9f44dc-b8a6-4e44-ce69-d879840af287"
      },
      "source": [
        "len(df[df['brand'] == 'toyota'])"
      ],
      "execution_count": null,
      "outputs": [
        {
          "output_type": "execute_result",
          "data": {
            "text/plain": [
              "1"
            ]
          },
          "metadata": {},
          "execution_count": 50
        }
      ]
    },
    {
      "cell_type": "markdown",
      "metadata": {
        "id": "EBtJcBhYlerS"
      },
      "source": [
        "Lets check for dodge\n",
        "\n",
        "In dodge we have 432 cars since 432 rows are retrived. "
      ]
    },
    {
      "cell_type": "code",
      "metadata": {
        "colab": {
          "base_uri": "https://localhost:8080/",
          "height": 418
        },
        "id": "5h37acNQk-2r",
        "outputId": "d9995dc4-be26-4fb1-92d7-045da1565e7e"
      },
      "source": [
        "df[df['brand'] == 'dodge']"
      ],
      "execution_count": null,
      "outputs": [
        {
          "output_type": "execute_result",
          "data": {
            "text/html": [
              "<div>\n",
              "<style scoped>\n",
              "    .dataframe tbody tr th:only-of-type {\n",
              "        vertical-align: middle;\n",
              "    }\n",
              "\n",
              "    .dataframe tbody tr th {\n",
              "        vertical-align: top;\n",
              "    }\n",
              "\n",
              "    .dataframe thead th {\n",
              "        text-align: right;\n",
              "    }\n",
              "</style>\n",
              "<table border=\"1\" class=\"dataframe\">\n",
              "  <thead>\n",
              "    <tr style=\"text-align: right;\">\n",
              "      <th></th>\n",
              "      <th>price</th>\n",
              "      <th>brand</th>\n",
              "      <th>model</th>\n",
              "      <th>year</th>\n",
              "      <th>title_status</th>\n",
              "      <th>mileage</th>\n",
              "      <th>color</th>\n",
              "      <th>state</th>\n",
              "      <th>country</th>\n",
              "    </tr>\n",
              "  </thead>\n",
              "  <tbody>\n",
              "    <tr>\n",
              "      <th>2</th>\n",
              "      <td>5350</td>\n",
              "      <td>dodge</td>\n",
              "      <td>mpv</td>\n",
              "      <td>2018</td>\n",
              "      <td>clean vehicle</td>\n",
              "      <td>39590.0</td>\n",
              "      <td>silver</td>\n",
              "      <td>georgia</td>\n",
              "      <td>usa</td>\n",
              "    </tr>\n",
              "    <tr>\n",
              "      <th>5</th>\n",
              "      <td>5700</td>\n",
              "      <td>dodge</td>\n",
              "      <td>mpv</td>\n",
              "      <td>2018</td>\n",
              "      <td>clean vehicle</td>\n",
              "      <td>45561.0</td>\n",
              "      <td>white</td>\n",
              "      <td>texas</td>\n",
              "      <td>usa</td>\n",
              "    </tr>\n",
              "    <tr>\n",
              "      <th>10</th>\n",
              "      <td>10400</td>\n",
              "      <td>dodge</td>\n",
              "      <td>coupe</td>\n",
              "      <td>2009</td>\n",
              "      <td>clean vehicle</td>\n",
              "      <td>107856.0</td>\n",
              "      <td>orange</td>\n",
              "      <td>georgia</td>\n",
              "      <td>usa</td>\n",
              "    </tr>\n",
              "    <tr>\n",
              "      <th>48</th>\n",
              "      <td>5580</td>\n",
              "      <td>dodge</td>\n",
              "      <td>mpv</td>\n",
              "      <td>2017</td>\n",
              "      <td>clean vehicle</td>\n",
              "      <td>46829.0</td>\n",
              "      <td>gray</td>\n",
              "      <td>texas</td>\n",
              "      <td>usa</td>\n",
              "    </tr>\n",
              "    <tr>\n",
              "      <th>94</th>\n",
              "      <td>39800</td>\n",
              "      <td>dodge</td>\n",
              "      <td>challenger</td>\n",
              "      <td>2015</td>\n",
              "      <td>clean vehicle</td>\n",
              "      <td>3641.0</td>\n",
              "      <td>white</td>\n",
              "      <td>pennsylvania</td>\n",
              "      <td>usa</td>\n",
              "    </tr>\n",
              "    <tr>\n",
              "      <th>...</th>\n",
              "      <td>...</td>\n",
              "      <td>...</td>\n",
              "      <td>...</td>\n",
              "      <td>...</td>\n",
              "      <td>...</td>\n",
              "      <td>...</td>\n",
              "      <td>...</td>\n",
              "      <td>...</td>\n",
              "      <td>...</td>\n",
              "    </tr>\n",
              "    <tr>\n",
              "      <th>1193</th>\n",
              "      <td>23900</td>\n",
              "      <td>dodge</td>\n",
              "      <td>charger</td>\n",
              "      <td>2019</td>\n",
              "      <td>clean vehicle</td>\n",
              "      <td>35248.0</td>\n",
              "      <td>white</td>\n",
              "      <td>georgia</td>\n",
              "      <td>usa</td>\n",
              "    </tr>\n",
              "    <tr>\n",
              "      <th>1194</th>\n",
              "      <td>14500</td>\n",
              "      <td>dodge</td>\n",
              "      <td>caravan</td>\n",
              "      <td>2018</td>\n",
              "      <td>clean vehicle</td>\n",
              "      <td>40417.0</td>\n",
              "      <td>no_color</td>\n",
              "      <td>florida</td>\n",
              "      <td>usa</td>\n",
              "    </tr>\n",
              "    <tr>\n",
              "      <th>1195</th>\n",
              "      <td>23000</td>\n",
              "      <td>dodge</td>\n",
              "      <td>durango</td>\n",
              "      <td>2017</td>\n",
              "      <td>clean vehicle</td>\n",
              "      <td>30309.0</td>\n",
              "      <td>gray</td>\n",
              "      <td>virginia</td>\n",
              "      <td>usa</td>\n",
              "    </tr>\n",
              "    <tr>\n",
              "      <th>1196</th>\n",
              "      <td>15000</td>\n",
              "      <td>dodge</td>\n",
              "      <td>journey</td>\n",
              "      <td>2018</td>\n",
              "      <td>clean vehicle</td>\n",
              "      <td>42303.0</td>\n",
              "      <td>red</td>\n",
              "      <td>north carolina</td>\n",
              "      <td>usa</td>\n",
              "    </tr>\n",
              "    <tr>\n",
              "      <th>1197</th>\n",
              "      <td>15000</td>\n",
              "      <td>dodge</td>\n",
              "      <td>journey</td>\n",
              "      <td>2018</td>\n",
              "      <td>clean vehicle</td>\n",
              "      <td>35326.0</td>\n",
              "      <td>white</td>\n",
              "      <td>north carolina</td>\n",
              "      <td>usa</td>\n",
              "    </tr>\n",
              "  </tbody>\n",
              "</table>\n",
              "<p>432 rows × 9 columns</p>\n",
              "</div>"
            ],
            "text/plain": [
              "      price  brand       model  ...     color           state  country\n",
              "2      5350  dodge         mpv  ...    silver         georgia      usa\n",
              "5      5700  dodge         mpv  ...     white           texas      usa\n",
              "10    10400  dodge       coupe  ...    orange         georgia      usa\n",
              "48     5580  dodge         mpv  ...      gray           texas      usa\n",
              "94    39800  dodge  challenger  ...     white    pennsylvania      usa\n",
              "...     ...    ...         ...  ...       ...             ...      ...\n",
              "1193  23900  dodge     charger  ...     white         georgia      usa\n",
              "1194  14500  dodge     caravan  ...  no_color         florida      usa\n",
              "1195  23000  dodge     durango  ...      gray        virginia      usa\n",
              "1196  15000  dodge     journey  ...       red  north carolina      usa\n",
              "1197  15000  dodge     journey  ...     white  north carolina      usa\n",
              "\n",
              "[432 rows x 9 columns]"
            ]
          },
          "metadata": {},
          "execution_count": 17
        }
      ]
    },
    {
      "cell_type": "markdown",
      "metadata": {
        "id": "EdpEWHIOlwQ-"
      },
      "source": [
        "And now lets check for 'ford'.\n",
        "\n",
        "And we as we can see 1235 cars are ford. \n",
        "\n",
        "Oh thats interesting!, almost half of the cars are of brand ford :) "
      ]
    },
    {
      "cell_type": "code",
      "metadata": {
        "colab": {
          "base_uri": "https://localhost:8080/",
          "height": 418
        },
        "id": "cYXZN8FIlYxf",
        "outputId": "ec88b06b-e5f6-4536-a018-12d0c25f4920"
      },
      "source": [
        "df[df['brand'] == 'ford']"
      ],
      "execution_count": null,
      "outputs": [
        {
          "output_type": "execute_result",
          "data": {
            "text/html": [
              "<div>\n",
              "<style scoped>\n",
              "    .dataframe tbody tr th:only-of-type {\n",
              "        vertical-align: middle;\n",
              "    }\n",
              "\n",
              "    .dataframe tbody tr th {\n",
              "        vertical-align: top;\n",
              "    }\n",
              "\n",
              "    .dataframe thead th {\n",
              "        text-align: right;\n",
              "    }\n",
              "</style>\n",
              "<table border=\"1\" class=\"dataframe\">\n",
              "  <thead>\n",
              "    <tr style=\"text-align: right;\">\n",
              "      <th></th>\n",
              "      <th>price</th>\n",
              "      <th>brand</th>\n",
              "      <th>model</th>\n",
              "      <th>year</th>\n",
              "      <th>title_status</th>\n",
              "      <th>mileage</th>\n",
              "      <th>color</th>\n",
              "      <th>state</th>\n",
              "      <th>country</th>\n",
              "    </tr>\n",
              "  </thead>\n",
              "  <tbody>\n",
              "    <tr>\n",
              "      <th>1</th>\n",
              "      <td>2899</td>\n",
              "      <td>ford</td>\n",
              "      <td>se</td>\n",
              "      <td>2011</td>\n",
              "      <td>clean vehicle</td>\n",
              "      <td>190552.0</td>\n",
              "      <td>silver</td>\n",
              "      <td>tennessee</td>\n",
              "      <td>usa</td>\n",
              "    </tr>\n",
              "    <tr>\n",
              "      <th>3</th>\n",
              "      <td>25000</td>\n",
              "      <td>ford</td>\n",
              "      <td>door</td>\n",
              "      <td>2014</td>\n",
              "      <td>clean vehicle</td>\n",
              "      <td>64146.0</td>\n",
              "      <td>blue</td>\n",
              "      <td>virginia</td>\n",
              "      <td>usa</td>\n",
              "    </tr>\n",
              "    <tr>\n",
              "      <th>9</th>\n",
              "      <td>5250</td>\n",
              "      <td>ford</td>\n",
              "      <td>mpv</td>\n",
              "      <td>2017</td>\n",
              "      <td>clean vehicle</td>\n",
              "      <td>63418.0</td>\n",
              "      <td>black</td>\n",
              "      <td>texas</td>\n",
              "      <td>usa</td>\n",
              "    </tr>\n",
              "    <tr>\n",
              "      <th>14</th>\n",
              "      <td>20700</td>\n",
              "      <td>ford</td>\n",
              "      <td>door</td>\n",
              "      <td>2013</td>\n",
              "      <td>clean vehicle</td>\n",
              "      <td>100757.0</td>\n",
              "      <td>black</td>\n",
              "      <td>virginia</td>\n",
              "      <td>usa</td>\n",
              "    </tr>\n",
              "    <tr>\n",
              "      <th>18</th>\n",
              "      <td>5210</td>\n",
              "      <td>ford</td>\n",
              "      <td>mpv</td>\n",
              "      <td>2017</td>\n",
              "      <td>clean vehicle</td>\n",
              "      <td>35714.0</td>\n",
              "      <td>white</td>\n",
              "      <td>texas</td>\n",
              "      <td>usa</td>\n",
              "    </tr>\n",
              "    <tr>\n",
              "      <th>...</th>\n",
              "      <td>...</td>\n",
              "      <td>...</td>\n",
              "      <td>...</td>\n",
              "      <td>...</td>\n",
              "      <td>...</td>\n",
              "      <td>...</td>\n",
              "      <td>...</td>\n",
              "      <td>...</td>\n",
              "      <td>...</td>\n",
              "    </tr>\n",
              "    <tr>\n",
              "      <th>2199</th>\n",
              "      <td>13800</td>\n",
              "      <td>ford</td>\n",
              "      <td>fusion</td>\n",
              "      <td>2019</td>\n",
              "      <td>clean vehicle</td>\n",
              "      <td>29345.0</td>\n",
              "      <td>white</td>\n",
              "      <td>north carolina</td>\n",
              "      <td>usa</td>\n",
              "    </tr>\n",
              "    <tr>\n",
              "      <th>2200</th>\n",
              "      <td>56000</td>\n",
              "      <td>ford</td>\n",
              "      <td>srw</td>\n",
              "      <td>2018</td>\n",
              "      <td>clean vehicle</td>\n",
              "      <td>25371.0</td>\n",
              "      <td>black</td>\n",
              "      <td>pennsylvania</td>\n",
              "      <td>usa</td>\n",
              "    </tr>\n",
              "    <tr>\n",
              "      <th>2201</th>\n",
              "      <td>13800</td>\n",
              "      <td>ford</td>\n",
              "      <td>fusion</td>\n",
              "      <td>2019</td>\n",
              "      <td>clean vehicle</td>\n",
              "      <td>30054.0</td>\n",
              "      <td>silver</td>\n",
              "      <td>north carolina</td>\n",
              "      <td>usa</td>\n",
              "    </tr>\n",
              "    <tr>\n",
              "      <th>2202</th>\n",
              "      <td>45800</td>\n",
              "      <td>ford</td>\n",
              "      <td>srw</td>\n",
              "      <td>2018</td>\n",
              "      <td>clean vehicle</td>\n",
              "      <td>11173.0</td>\n",
              "      <td>white</td>\n",
              "      <td>pennsylvania</td>\n",
              "      <td>usa</td>\n",
              "    </tr>\n",
              "    <tr>\n",
              "      <th>2203</th>\n",
              "      <td>13800</td>\n",
              "      <td>ford</td>\n",
              "      <td>fusion</td>\n",
              "      <td>2019</td>\n",
              "      <td>clean vehicle</td>\n",
              "      <td>30902.0</td>\n",
              "      <td>no_color</td>\n",
              "      <td>north carolina</td>\n",
              "      <td>usa</td>\n",
              "    </tr>\n",
              "  </tbody>\n",
              "</table>\n",
              "<p>1235 rows × 9 columns</p>\n",
              "</div>"
            ],
            "text/plain": [
              "      price brand   model  year  ...   mileage     color           state country\n",
              "1      2899  ford      se  2011  ...  190552.0    silver       tennessee     usa\n",
              "3     25000  ford    door  2014  ...   64146.0      blue        virginia     usa\n",
              "9      5250  ford     mpv  2017  ...   63418.0     black           texas     usa\n",
              "14    20700  ford    door  2013  ...  100757.0     black        virginia     usa\n",
              "18     5210  ford     mpv  2017  ...   35714.0     white           texas     usa\n",
              "...     ...   ...     ...   ...  ...       ...       ...             ...     ...\n",
              "2199  13800  ford  fusion  2019  ...   29345.0     white  north carolina     usa\n",
              "2200  56000  ford     srw  2018  ...   25371.0     black    pennsylvania     usa\n",
              "2201  13800  ford  fusion  2019  ...   30054.0    silver  north carolina     usa\n",
              "2202  45800  ford     srw  2018  ...   11173.0     white    pennsylvania     usa\n",
              "2203  13800  ford  fusion  2019  ...   30902.0  no_color  north carolina     usa\n",
              "\n",
              "[1235 rows x 9 columns]"
            ]
          },
          "metadata": {},
          "execution_count": 16
        }
      ]
    },
    {
      "cell_type": "markdown",
      "metadata": {
        "id": "kS4FS4junXTB"
      },
      "source": [
        "Now the real part comes in! Automation to finds all of this data together. \n",
        "\n",
        "Lets suppose we want to find this data like number of cars for each brand with a single logic,\n",
        "\n",
        "\n",
        "*   Firstly, we gonna get the unique brands\n",
        "*   Then, iterating through each of them we can find the required data\n",
        "\n"
      ]
    },
    {
      "cell_type": "code",
      "metadata": {
        "colab": {
          "base_uri": "https://localhost:8080/"
        },
        "id": "fIhKNG2pl8LY",
        "outputId": "cfbe13d1-f6fe-45e7-fef7-83a9a89a85bf"
      },
      "source": [
        "df['brand'].unique()   #So we can iterate through each brand and print the brand name"
      ],
      "execution_count": null,
      "outputs": [
        {
          "output_type": "execute_result",
          "data": {
            "text/plain": [
              "array(['toyota', 'ford', 'dodge', 'chevrolet', 'gmc', 'chrysler', 'kia',\n",
              "       'buick', 'infiniti', 'mercedes-benz', 'jeep', 'bmw', 'cadillac',\n",
              "       'hyundai', 'mazda', 'honda', 'heartland', 'jaguar', 'acura',\n",
              "       'harley-davidson', 'audi', 'lincoln', 'lexus', 'nissan', 'land',\n",
              "       'maserati', 'peterbilt', 'ram'], dtype=object)"
            ]
          },
          "metadata": {},
          "execution_count": 54
        }
      ]
    },
    {
      "cell_type": "code",
      "metadata": {
        "colab": {
          "base_uri": "https://localhost:8080/"
        },
        "id": "W75CRl_MoJFM",
        "outputId": "434285e7-b6b7-49d0-f239-897fb5c0c036"
      },
      "source": [
        "for brand in df['brand'].unique():\n",
        "  print(brand)"
      ],
      "execution_count": null,
      "outputs": [
        {
          "output_type": "stream",
          "name": "stdout",
          "text": [
            "toyota\n",
            "ford\n",
            "dodge\n",
            "chevrolet\n",
            "gmc\n",
            "chrysler\n",
            "kia\n",
            "buick\n",
            "infiniti\n",
            "mercedes-benz\n",
            "jeep\n",
            "bmw\n",
            "cadillac\n",
            "hyundai\n",
            "mazda\n",
            "honda\n",
            "heartland\n",
            "jaguar\n",
            "acura\n",
            "harley-davidson\n",
            "audi\n",
            "lincoln\n",
            "lexus\n",
            "nissan\n",
            "land\n",
            "maserati\n",
            "peterbilt\n",
            "ram\n"
          ]
        }
      ]
    },
    {
      "cell_type": "markdown",
      "metadata": {
        "id": "5o_QLb9hpJ-n"
      },
      "source": [
        "Now we'll print number of cars along with their brand name. \n",
        "\n",
        "The logic is simple. The brand in the for loop will change for every iteration. Every time it will compare each of the brand with every every row in the dataset and get the number of cars for that brand.\n",
        "Now using len() we can print the total of those cars. "
      ]
    },
    {
      "cell_type": "markdown",
      "metadata": {
        "id": "RYfXbQIRqCur"
      },
      "source": [
        "This is how we can analyse how many cars are there for a particular brand!"
      ]
    },
    {
      "cell_type": "code",
      "metadata": {
        "colab": {
          "base_uri": "https://localhost:8080/"
        },
        "id": "dds0pnxyoY3Z",
        "outputId": "f90f2d09-c9e7-46ea-cbe8-bf52c1b828cc"
      },
      "source": [
        "for brand in df['brand'].unique():\n",
        "  print(brand,\":\", len(df[df['brand'] == brand]))"
      ],
      "execution_count": null,
      "outputs": [
        {
          "output_type": "stream",
          "name": "stdout",
          "text": [
            "toyota : 1\n",
            "ford : 1235\n",
            "dodge : 432\n",
            "chevrolet : 297\n",
            "gmc : 42\n",
            "chrysler : 18\n",
            "kia : 13\n",
            "buick : 13\n",
            "infiniti : 12\n",
            "mercedes-benz : 10\n",
            "jeep : 30\n",
            "bmw : 17\n",
            "cadillac : 10\n",
            "hyundai : 15\n",
            "mazda : 2\n",
            "honda : 12\n",
            "heartland : 5\n",
            "jaguar : 1\n",
            "acura : 3\n",
            "harley-davidson : 1\n",
            "audi : 4\n",
            "lincoln : 2\n",
            "lexus : 2\n",
            "nissan : 312\n",
            "land : 4\n",
            "maserati : 1\n",
            "peterbilt : 4\n",
            "ram : 1\n"
          ]
        }
      ]
    },
    {
      "cell_type": "code",
      "metadata": {
        "colab": {
          "base_uri": "https://localhost:8080/"
        },
        "id": "KmH70DVho1sh",
        "outputId": "c0b88613-dbef-4d74-ad41-d43a3b302591"
      },
      "source": [
        "a = []\n",
        "for brand in df['brand'].unique():\n",
        "  print(brand,\":\", len(df[df['brand'] == brand]))\n",
        "  # dominant = max(len(df[df['brand'] == brand]))\n",
        "  a.append(len(df[df['brand'] == brand]))\n",
        "  #print(\"The most dominant car in market is:\", dominant )\n",
        "print(\"The most dominant car in the market: \", max(a))\n",
        "print(\"The car with least use: \", min(a))\n",
        "\n",
        "for brand in df['brand'].unique():\n",
        "  if(len(df[df['brand'] == brand]) == max):\n",
        "    print(brand, )"
      ],
      "execution_count": null,
      "outputs": [
        {
          "output_type": "stream",
          "name": "stdout",
          "text": [
            "toyota : 1\n",
            "ford : 1235\n",
            "dodge : 432\n",
            "chevrolet : 297\n",
            "gmc : 42\n",
            "chrysler : 18\n",
            "kia : 13\n",
            "buick : 13\n",
            "infiniti : 12\n",
            "mercedes-benz : 10\n",
            "jeep : 30\n",
            "bmw : 17\n",
            "cadillac : 10\n",
            "hyundai : 15\n",
            "mazda : 2\n",
            "honda : 12\n",
            "heartland : 5\n",
            "jaguar : 1\n",
            "acura : 3\n",
            "harley-davidson : 1\n",
            "audi : 4\n",
            "lincoln : 2\n",
            "lexus : 2\n",
            "nissan : 312\n",
            "land : 4\n",
            "maserati : 1\n",
            "peterbilt : 4\n",
            "ram : 1\n",
            "The most dominant car in the market:  1235\n",
            "The car with least use:  1\n"
          ]
        }
      ]
    },
    {
      "cell_type": "markdown",
      "metadata": {
        "id": "dcKLb5xOTy20"
      },
      "source": [
        "Lets find out cars in each model. "
      ]
    },
    {
      "cell_type": "code",
      "metadata": {
        "id": "rK6PZW-DN2Z4",
        "colab": {
          "base_uri": "https://localhost:8080/"
        },
        "outputId": "d6b34c04-9c12-4a7c-8517-a27d74542b1a"
      },
      "source": [
        "for model in df['model'].unique():\n",
        "  print(model, \":\", len(df[df['model'] == model]))"
      ],
      "execution_count": null,
      "outputs": [
        {
          "output_type": "stream",
          "name": "stdout",
          "text": [
            "cruiser : 1\n",
            "se : 1\n",
            "mpv : 87\n",
            "door : 651\n",
            "1500 : 39\n",
            "pk : 5\n",
            "malibu : 12\n",
            "coupe : 6\n",
            "wagon : 30\n",
            "forte : 2\n",
            "encore : 3\n",
            "sorento : 5\n",
            "doors : 148\n",
            "chassis : 4\n",
            "q70 : 1\n",
            "camaro : 6\n",
            "convertible : 1\n",
            "vans : 2\n",
            "srw : 38\n",
            "compass : 6\n",
            "enclave : 2\n",
            "300 : 6\n",
            "cherokee : 3\n",
            "pacifica : 3\n",
            "x3 : 2\n",
            "equinox : 18\n",
            "challenger : 44\n",
            "m : 1\n",
            "colorado : 12\n",
            "focus : 9\n",
            "durango : 64\n",
            "escape : 39\n",
            "charger : 42\n",
            "explorer : 39\n",
            "f-150 : 219\n",
            "3500 : 4\n",
            "caravan : 102\n",
            "van : 46\n",
            "dart : 1\n",
            "2500 : 8\n",
            "esv : 1\n",
            "cutaway : 12\n",
            "el : 3\n",
            "edge : 34\n",
            "series : 8\n",
            "flex : 33\n",
            "srx : 1\n",
            "cab : 8\n",
            "pickup : 15\n",
            "vehicl : 1\n",
            "trax : 8\n",
            "tahoe : 9\n",
            "suburban : 16\n",
            "cargo : 2\n",
            "drw : 10\n",
            "fiesta : 14\n",
            "impala : 12\n",
            "soul : 1\n",
            "elantra : 1\n",
            "pioneer : 1\n",
            "trail : 1\n",
            "traverse : 6\n",
            "country : 2\n",
            "sundance : 1\n",
            "road/street : 1\n",
            "nautilus : 1\n",
            "gx : 1\n",
            "q5 : 1\n",
            "gle : 2\n",
            "sportage : 1\n",
            "5 : 1\n",
            "sport : 40\n",
            "discovery : 1\n",
            "acadia : 1\n",
            "ghibli : 1\n",
            "glc : 1\n",
            "e-class : 1\n",
            "truck : 4\n",
            "utility : 1\n",
            "limited : 1\n",
            "sl-class : 1\n",
            "cx-3 : 1\n",
            "2500hd : 1\n",
            "sonic : 2\n",
            "corvette : 4\n",
            "mdx : 1\n",
            "xt5 : 1\n",
            "fusion : 65\n",
            "mustang : 29\n",
            "passenger : 3\n",
            "volt : 2\n",
            "spark : 1\n",
            "cruze : 2\n",
            "ld : 3\n",
            "journey : 61\n",
            "transit : 41\n",
            "ranger : 6\n",
            "taurus : 10\n",
            "max : 41\n",
            "energi : 1\n",
            "expedition : 28\n",
            "bus : 2\n",
            "ecosport : 7\n",
            "f-750 : 1\n",
            "d : 2\n",
            "dr : 1\n",
            "hybrid : 5\n",
            "suv : 1\n",
            "connect : 1\n",
            "f-650 : 3\n",
            "sentra : 28\n",
            "altima : 21\n",
            "frontier : 14\n",
            "rogue : 54\n",
            "maxima : 3\n",
            "versa : 34\n",
            "note : 2\n",
            "armada : 4\n",
            "pathfinder : 22\n",
            "titan : 5\n",
            "sedan : 4\n",
            "juke : 1\n",
            "murano : 5\n",
            "xterra : 1\n",
            "kicks : 1\n",
            "xd : 1\n",
            "nvp : 1\n"
          ]
        }
      ]
    },
    {
      "cell_type": "code",
      "metadata": {
        "colab": {
          "base_uri": "https://localhost:8080/"
        },
        "id": "kOHx_iu6Q-tl",
        "outputId": "f293199c-04b0-46d9-8e76-1db3e4699871"
      },
      "source": [
        "for clr in df['color'].unique():\n",
        "  print(clr, \":\", len(df[df['color'] == clr]))"
      ],
      "execution_count": null,
      "outputs": [
        {
          "output_type": "stream",
          "name": "stdout",
          "text": [
            "black : 516\n",
            "silver : 300\n",
            "blue : 151\n",
            "red : 192\n",
            "white : 707\n",
            "gray : 395\n",
            "orange : 20\n",
            "brown : 15\n",
            "no_color : 61\n",
            "gold : 19\n",
            "charcoal : 18\n",
            "turquoise : 1\n",
            "beige : 5\n",
            "green : 24\n",
            "dark blue : 1\n",
            "maroon : 1\n",
            "phantom black : 1\n",
            "yellow : 9\n",
            "color: : 5\n",
            "light blue : 1\n",
            "toreador red : 1\n",
            "bright white clearcoat : 2\n",
            "billet silver metallic clearcoat : 3\n",
            "black clearcoat : 2\n",
            "jazz blue pearlcoat : 1\n",
            "purple : 1\n",
            "ruby red metallic tinted clearcoat : 2\n",
            "triple yellow tri-coat : 3\n",
            "competition orange : 1\n",
            "off-white : 2\n",
            "shadow black : 5\n",
            "magnetic metallic : 6\n",
            "ingot silver metallic : 4\n",
            "ruby red : 1\n",
            "royal crimson metallic tinted clearcoat : 1\n",
            "kona blue metallic : 1\n",
            "oxford white : 4\n",
            "lightning blue : 1\n",
            "ingot silver : 1\n",
            "white platinum tri-coat metallic : 2\n",
            "guard : 1\n",
            "tuxedo black metallic : 2\n",
            "tan : 1\n",
            "burgundy : 1\n",
            "super black : 3\n",
            "cayenne red : 2\n",
            "morningsky blue : 1\n",
            "pearl white : 1\n",
            "glacier white : 1\n"
          ]
        }
      ]
    },
    {
      "cell_type": "markdown",
      "metadata": {
        "id": "maDDxUB6U-GK"
      },
      "source": [
        "Lets analyse state having most number of cars! \n"
      ]
    },
    {
      "cell_type": "code",
      "metadata": {
        "colab": {
          "base_uri": "https://localhost:8080/"
        },
        "id": "Dc4VetVjUMdr",
        "outputId": "d7f666b6-b7c5-4241-bd7c-acf55c2cf090"
      },
      "source": [
        "for state in df['state'].unique():\n",
        "  print(state, \":\", len(df[df['state'] == state]))"
      ],
      "execution_count": null,
      "outputs": [
        {
          "output_type": "stream",
          "name": "stdout",
          "text": [
            "new jersey : 87\n",
            "tennessee : 26\n",
            "georgia : 51\n",
            "virginia : 90\n",
            "florida : 246\n",
            "texas : 214\n",
            "california : 190\n",
            "north carolina : 146\n",
            "ohio : 31\n",
            "new york : 58\n",
            "pennsylvania : 299\n",
            "south carolina : 64\n",
            "michigan : 169\n",
            "washington : 14\n",
            "arizona : 33\n",
            "utah : 10\n",
            "kentucky : 9\n",
            "massachusetts : 27\n",
            "nebraska : 4\n",
            "ontario : 7\n",
            "missouri : 46\n",
            "minnesota : 119\n",
            "oklahoma : 71\n",
            "connecticut : 25\n",
            "indiana : 14\n",
            "arkansas : 12\n",
            "kansas : 4\n",
            "wyoming : 1\n",
            "colorado : 21\n",
            "illinois : 113\n",
            "wisconsin : 94\n",
            "mississippi : 24\n",
            "maryland : 4\n",
            "oregon : 27\n",
            "west virginia : 21\n",
            "nevada : 85\n",
            "rhode island : 2\n",
            "louisiana : 11\n",
            "alabama : 17\n",
            "new mexico : 4\n",
            "idaho : 2\n",
            "new hampshire : 4\n",
            "montana : 1\n",
            "vermont : 2\n"
          ]
        }
      ]
    },
    {
      "cell_type": "code",
      "metadata": {
        "colab": {
          "base_uri": "https://localhost:8080/"
        },
        "id": "r44zIaJ2VClc",
        "outputId": "148d9c96-a355-4822-a5b6-451719137c6b"
      },
      "source": [
        "for year in df['year'].unique():\n",
        "  print(year, \":\", len(df[df['year'] == year]))"
      ],
      "execution_count": null,
      "outputs": [
        {
          "output_type": "stream",
          "name": "stdout",
          "text": [
            "2008 : 18\n",
            "2011 : 23\n",
            "2018 : 395\n",
            "2014 : 104\n",
            "2010 : 13\n",
            "2017 : 377\n",
            "2009 : 11\n",
            "2013 : 86\n",
            "2015 : 196\n",
            "2020 : 48\n",
            "2016 : 203\n",
            "1973 : 1\n",
            "2003 : 9\n",
            "2019 : 892\n",
            "2002 : 2\n",
            "2000 : 4\n",
            "2001 : 5\n",
            "2005 : 6\n",
            "2012 : 72\n",
            "2006 : 8\n",
            "2007 : 6\n",
            "1998 : 4\n",
            "2004 : 6\n",
            "1994 : 2\n",
            "1997 : 2\n",
            "1996 : 2\n",
            "1999 : 1\n",
            "1984 : 1\n",
            "1995 : 1\n",
            "1993 : 1\n"
          ]
        }
      ]
    },
    {
      "cell_type": "markdown",
      "metadata": {
        "id": "OLq28VgQVsCK"
      },
      "source": [
        "And yeah we analysed every column and number of cars year wise, number of cars in each state and based on various other criterias."
      ]
    },
    {
      "cell_type": "markdown",
      "metadata": {
        "id": "r3plFPONh1SB"
      },
      "source": [
        "#  Q1. Top 5 car brands in terms of number of cars. "
      ]
    },
    {
      "cell_type": "markdown",
      "metadata": {
        "id": "FnK9Xnr5icp2"
      },
      "source": [
        "For solving this lets check the number of unique brands we are having. "
      ]
    },
    {
      "cell_type": "code",
      "metadata": {
        "colab": {
          "base_uri": "https://localhost:8080/"
        },
        "id": "WiUUqkuDh02a",
        "outputId": "b45e3526-5fbb-4e23-bb7a-1b3df5ae0544"
      },
      "source": [
        "df['brand'].unique()"
      ],
      "execution_count": null,
      "outputs": [
        {
          "output_type": "execute_result",
          "data": {
            "text/plain": [
              "array(['toyota', 'ford', 'dodge', 'chevrolet', 'gmc', 'chrysler', 'kia',\n",
              "       'buick', 'infiniti', 'mercedes-benz', 'jeep', 'bmw', 'cadillac',\n",
              "       'hyundai', 'mazda', 'honda', 'heartland', 'jaguar', 'acura',\n",
              "       'harley-davidson', 'audi', 'lincoln', 'lexus', 'nissan', 'land',\n",
              "       'maserati', 'peterbilt', 'ram'], dtype=object)"
            ]
          },
          "metadata": {},
          "execution_count": 20
        }
      ]
    },
    {
      "cell_type": "markdown",
      "metadata": {
        "id": "vwZJeXv1ioNW"
      },
      "source": [
        "Now lets check how many cars are there in each brand( not new, something which we have already discussed previously). "
      ]
    },
    {
      "cell_type": "code",
      "metadata": {
        "colab": {
          "base_uri": "https://localhost:8080/"
        },
        "id": "TfH7wiQQiZK3",
        "outputId": "18a07157-2879-44d2-acbd-7f83973cbddd"
      },
      "source": [
        "for brand in df['brand'].unique():\n",
        "  print(brand,\":\", len(df[df['brand'] == brand]))"
      ],
      "execution_count": null,
      "outputs": [
        {
          "output_type": "stream",
          "name": "stdout",
          "text": [
            "toyota : 1\n",
            "ford : 1235\n",
            "dodge : 432\n",
            "chevrolet : 297\n",
            "gmc : 42\n",
            "chrysler : 18\n",
            "kia : 13\n",
            "buick : 13\n",
            "infiniti : 12\n",
            "mercedes-benz : 10\n",
            "jeep : 30\n",
            "bmw : 17\n",
            "cadillac : 10\n",
            "hyundai : 15\n",
            "mazda : 2\n",
            "honda : 12\n",
            "heartland : 5\n",
            "jaguar : 1\n",
            "acura : 3\n",
            "harley-davidson : 1\n",
            "audi : 4\n",
            "lincoln : 2\n",
            "lexus : 2\n",
            "nissan : 312\n",
            "land : 4\n",
            "maserati : 1\n",
            "peterbilt : 4\n",
            "ram : 1\n"
          ]
        }
      ]
    },
    {
      "cell_type": "markdown",
      "metadata": {
        "id": "ouc_v7oHjJkB"
      },
      "source": [
        "Now in order to know the top 5 car brands we need to sort the data. \n",
        "\n",
        "So lets create a list for this and append the data into it. "
      ]
    },
    {
      "cell_type": "code",
      "metadata": {
        "id": "LrDMuItvjFog"
      },
      "source": [
        "a = []\n",
        "for brand in df['brand'].unique():\n",
        "  # print(brand,\":\", len(df[df['brand'] == brand]))\n",
        "  a.append([brand, len(df[df['brand'] == brand])])"
      ],
      "execution_count": null,
      "outputs": []
    },
    {
      "cell_type": "code",
      "metadata": {
        "colab": {
          "base_uri": "https://localhost:8080/"
        },
        "id": "4kftNAvgj0dF",
        "outputId": "72bc977b-8451-4993-eceb-45a3b03cb008"
      },
      "source": [
        "a"
      ],
      "execution_count": null,
      "outputs": [
        {
          "output_type": "execute_result",
          "data": {
            "text/plain": [
              "[['toyota', 1],\n",
              " ['ford', 1235],\n",
              " ['dodge', 432],\n",
              " ['chevrolet', 297],\n",
              " ['gmc', 42],\n",
              " ['chrysler', 18],\n",
              " ['kia', 13],\n",
              " ['buick', 13],\n",
              " ['infiniti', 12],\n",
              " ['mercedes-benz', 10],\n",
              " ['jeep', 30],\n",
              " ['bmw', 17],\n",
              " ['cadillac', 10],\n",
              " ['hyundai', 15],\n",
              " ['mazda', 2],\n",
              " ['honda', 12],\n",
              " ['heartland', 5],\n",
              " ['jaguar', 1],\n",
              " ['acura', 3],\n",
              " ['harley-davidson', 1],\n",
              " ['audi', 4],\n",
              " ['lincoln', 2],\n",
              " ['lexus', 2],\n",
              " ['nissan', 312],\n",
              " ['land', 4],\n",
              " ['maserati', 1],\n",
              " ['peterbilt', 4],\n",
              " ['ram', 1]]"
            ]
          },
          "metadata": {},
          "execution_count": 28
        }
      ]
    },
    {
      "cell_type": "markdown",
      "metadata": {
        "id": "URt-pX3cpNKc"
      },
      "source": [
        "Using the DataFrame() function we can convert the list format data into data frame. "
      ]
    },
    {
      "cell_type": "code",
      "metadata": {
        "id": "-PTGHNx8j3Lc"
      },
      "source": [
        "a = pd.DataFrame(a, columns = ['brand', 'freq'])"
      ],
      "execution_count": null,
      "outputs": []
    },
    {
      "cell_type": "code",
      "metadata": {
        "colab": {
          "base_uri": "https://localhost:8080/",
          "height": 914
        },
        "id": "F7YLxZVvltc-",
        "outputId": "e7aad42e-cd0c-48ed-b3ee-f179149b3474"
      },
      "source": [
        "a"
      ],
      "execution_count": null,
      "outputs": [
        {
          "output_type": "execute_result",
          "data": {
            "text/html": [
              "<div>\n",
              "<style scoped>\n",
              "    .dataframe tbody tr th:only-of-type {\n",
              "        vertical-align: middle;\n",
              "    }\n",
              "\n",
              "    .dataframe tbody tr th {\n",
              "        vertical-align: top;\n",
              "    }\n",
              "\n",
              "    .dataframe thead th {\n",
              "        text-align: right;\n",
              "    }\n",
              "</style>\n",
              "<table border=\"1\" class=\"dataframe\">\n",
              "  <thead>\n",
              "    <tr style=\"text-align: right;\">\n",
              "      <th></th>\n",
              "      <th>brand</th>\n",
              "      <th>freq</th>\n",
              "    </tr>\n",
              "  </thead>\n",
              "  <tbody>\n",
              "    <tr>\n",
              "      <th>0</th>\n",
              "      <td>toyota</td>\n",
              "      <td>1</td>\n",
              "    </tr>\n",
              "    <tr>\n",
              "      <th>1</th>\n",
              "      <td>ford</td>\n",
              "      <td>1235</td>\n",
              "    </tr>\n",
              "    <tr>\n",
              "      <th>2</th>\n",
              "      <td>dodge</td>\n",
              "      <td>432</td>\n",
              "    </tr>\n",
              "    <tr>\n",
              "      <th>3</th>\n",
              "      <td>chevrolet</td>\n",
              "      <td>297</td>\n",
              "    </tr>\n",
              "    <tr>\n",
              "      <th>4</th>\n",
              "      <td>gmc</td>\n",
              "      <td>42</td>\n",
              "    </tr>\n",
              "    <tr>\n",
              "      <th>5</th>\n",
              "      <td>chrysler</td>\n",
              "      <td>18</td>\n",
              "    </tr>\n",
              "    <tr>\n",
              "      <th>6</th>\n",
              "      <td>kia</td>\n",
              "      <td>13</td>\n",
              "    </tr>\n",
              "    <tr>\n",
              "      <th>7</th>\n",
              "      <td>buick</td>\n",
              "      <td>13</td>\n",
              "    </tr>\n",
              "    <tr>\n",
              "      <th>8</th>\n",
              "      <td>infiniti</td>\n",
              "      <td>12</td>\n",
              "    </tr>\n",
              "    <tr>\n",
              "      <th>9</th>\n",
              "      <td>mercedes-benz</td>\n",
              "      <td>10</td>\n",
              "    </tr>\n",
              "    <tr>\n",
              "      <th>10</th>\n",
              "      <td>jeep</td>\n",
              "      <td>30</td>\n",
              "    </tr>\n",
              "    <tr>\n",
              "      <th>11</th>\n",
              "      <td>bmw</td>\n",
              "      <td>17</td>\n",
              "    </tr>\n",
              "    <tr>\n",
              "      <th>12</th>\n",
              "      <td>cadillac</td>\n",
              "      <td>10</td>\n",
              "    </tr>\n",
              "    <tr>\n",
              "      <th>13</th>\n",
              "      <td>hyundai</td>\n",
              "      <td>15</td>\n",
              "    </tr>\n",
              "    <tr>\n",
              "      <th>14</th>\n",
              "      <td>mazda</td>\n",
              "      <td>2</td>\n",
              "    </tr>\n",
              "    <tr>\n",
              "      <th>15</th>\n",
              "      <td>honda</td>\n",
              "      <td>12</td>\n",
              "    </tr>\n",
              "    <tr>\n",
              "      <th>16</th>\n",
              "      <td>heartland</td>\n",
              "      <td>5</td>\n",
              "    </tr>\n",
              "    <tr>\n",
              "      <th>17</th>\n",
              "      <td>jaguar</td>\n",
              "      <td>1</td>\n",
              "    </tr>\n",
              "    <tr>\n",
              "      <th>18</th>\n",
              "      <td>acura</td>\n",
              "      <td>3</td>\n",
              "    </tr>\n",
              "    <tr>\n",
              "      <th>19</th>\n",
              "      <td>harley-davidson</td>\n",
              "      <td>1</td>\n",
              "    </tr>\n",
              "    <tr>\n",
              "      <th>20</th>\n",
              "      <td>audi</td>\n",
              "      <td>4</td>\n",
              "    </tr>\n",
              "    <tr>\n",
              "      <th>21</th>\n",
              "      <td>lincoln</td>\n",
              "      <td>2</td>\n",
              "    </tr>\n",
              "    <tr>\n",
              "      <th>22</th>\n",
              "      <td>lexus</td>\n",
              "      <td>2</td>\n",
              "    </tr>\n",
              "    <tr>\n",
              "      <th>23</th>\n",
              "      <td>nissan</td>\n",
              "      <td>312</td>\n",
              "    </tr>\n",
              "    <tr>\n",
              "      <th>24</th>\n",
              "      <td>land</td>\n",
              "      <td>4</td>\n",
              "    </tr>\n",
              "    <tr>\n",
              "      <th>25</th>\n",
              "      <td>maserati</td>\n",
              "      <td>1</td>\n",
              "    </tr>\n",
              "    <tr>\n",
              "      <th>26</th>\n",
              "      <td>peterbilt</td>\n",
              "      <td>4</td>\n",
              "    </tr>\n",
              "    <tr>\n",
              "      <th>27</th>\n",
              "      <td>ram</td>\n",
              "      <td>1</td>\n",
              "    </tr>\n",
              "  </tbody>\n",
              "</table>\n",
              "</div>"
            ],
            "text/plain": [
              "              brand  freq\n",
              "0            toyota     1\n",
              "1              ford  1235\n",
              "2             dodge   432\n",
              "3         chevrolet   297\n",
              "4               gmc    42\n",
              "5          chrysler    18\n",
              "6               kia    13\n",
              "7             buick    13\n",
              "8          infiniti    12\n",
              "9     mercedes-benz    10\n",
              "10             jeep    30\n",
              "11              bmw    17\n",
              "12         cadillac    10\n",
              "13          hyundai    15\n",
              "14            mazda     2\n",
              "15            honda    12\n",
              "16        heartland     5\n",
              "17           jaguar     1\n",
              "18            acura     3\n",
              "19  harley-davidson     1\n",
              "20             audi     4\n",
              "21          lincoln     2\n",
              "22            lexus     2\n",
              "23           nissan   312\n",
              "24             land     4\n",
              "25         maserati     1\n",
              "26        peterbilt     4\n",
              "27              ram     1"
            ]
          },
          "metadata": {},
          "execution_count": 30
        }
      ]
    },
    {
      "cell_type": "markdown",
      "metadata": {
        "id": "74lmHQPAqA3s"
      },
      "source": [
        "Now , its the time to sort the data. For that we have a function called sort_values(). \n",
        "\n",
        "sort_values(by = 'col_name', ascending = 'True/False')\n",
        "\n",
        "*   ascending = 'True'  : If you want the data to be displayed in ascending order.\n",
        "*   ascending = 'False'  : If you want the data to be displayed in descending order\n",
        "\n",
        "\n"
      ]
    },
    {
      "cell_type": "code",
      "metadata": {
        "colab": {
          "base_uri": "https://localhost:8080/",
          "height": 204
        },
        "id": "VvqrPDNNluTa",
        "outputId": "9759509a-8898-469b-a612-1014e9315faf"
      },
      "source": [
        "a.sort_values(by = 'freq', ascending = False).head()"
      ],
      "execution_count": null,
      "outputs": [
        {
          "output_type": "execute_result",
          "data": {
            "text/html": [
              "<div>\n",
              "<style scoped>\n",
              "    .dataframe tbody tr th:only-of-type {\n",
              "        vertical-align: middle;\n",
              "    }\n",
              "\n",
              "    .dataframe tbody tr th {\n",
              "        vertical-align: top;\n",
              "    }\n",
              "\n",
              "    .dataframe thead th {\n",
              "        text-align: right;\n",
              "    }\n",
              "</style>\n",
              "<table border=\"1\" class=\"dataframe\">\n",
              "  <thead>\n",
              "    <tr style=\"text-align: right;\">\n",
              "      <th></th>\n",
              "      <th>brand</th>\n",
              "      <th>freq</th>\n",
              "    </tr>\n",
              "  </thead>\n",
              "  <tbody>\n",
              "    <tr>\n",
              "      <th>1</th>\n",
              "      <td>ford</td>\n",
              "      <td>1235</td>\n",
              "    </tr>\n",
              "    <tr>\n",
              "      <th>2</th>\n",
              "      <td>dodge</td>\n",
              "      <td>432</td>\n",
              "    </tr>\n",
              "    <tr>\n",
              "      <th>23</th>\n",
              "      <td>nissan</td>\n",
              "      <td>312</td>\n",
              "    </tr>\n",
              "    <tr>\n",
              "      <th>3</th>\n",
              "      <td>chevrolet</td>\n",
              "      <td>297</td>\n",
              "    </tr>\n",
              "    <tr>\n",
              "      <th>4</th>\n",
              "      <td>gmc</td>\n",
              "      <td>42</td>\n",
              "    </tr>\n",
              "  </tbody>\n",
              "</table>\n",
              "</div>"
            ],
            "text/plain": [
              "        brand  freq\n",
              "1        ford  1235\n",
              "2       dodge   432\n",
              "23     nissan   312\n",
              "3   chevrolet   297\n",
              "4         gmc    42"
            ]
          },
          "metadata": {},
          "execution_count": 31
        }
      ]
    },
    {
      "cell_type": "markdown",
      "metadata": {
        "id": "mYU7Z2uRq_mP"
      },
      "source": [
        "And yayyy! We got brands along with frequencies in the descending order. "
      ]
    },
    {
      "cell_type": "markdown",
      "metadata": {
        "id": "Iou2lK8crsWU"
      },
      "source": [
        "**So the whole code for this question is as follows:**"
      ]
    },
    {
      "cell_type": "code",
      "metadata": {
        "id": "Hp6mCPP_q8-C"
      },
      "source": [
        "a = []\n",
        "for brand in df['brand'].unique():\n",
        "  a.append([brand, len(df[df['brand'] == brand])])\n",
        "\n",
        "a = pd.DataFrame(a, columns = ['brand', 'freq'])\n",
        "a = a.sort_values(by = 'freq', ascending = False).head()"
      ],
      "execution_count": null,
      "outputs": []
    },
    {
      "cell_type": "markdown",
      "metadata": {
        "id": "FyXGJhL2sV9r"
      },
      "source": [
        "And I'm exicited to plot a graph for this now. It's really really simple using pandas. \n",
        "\n",
        "There is function called plot() with a lot of parameters to draw any graph like anyway we could want! \n",
        "\n",
        "Make sure to play around and learn various parameters. "
      ]
    },
    {
      "cell_type": "code",
      "metadata": {
        "colab": {
          "base_uri": "https://localhost:8080/",
          "height": 334
        },
        "id": "qallS4aDsMXh",
        "outputId": "1eef7a7c-324d-4666-e428-b693c9d44182"
      },
      "source": [
        "a.plot(x = 'brand', y = 'freq', kind = 'bar')"
      ],
      "execution_count": null,
      "outputs": [
        {
          "output_type": "execute_result",
          "data": {
            "text/plain": [
              "<matplotlib.axes._subplots.AxesSubplot at 0x7fb974131710>"
            ]
          },
          "metadata": {},
          "execution_count": 36
        },
        {
          "output_type": "display_data",
          "data": {
            "image/png": "[encoded data removed]",
            "text/plain": [
              "<Figure size 432x288 with 1 Axes>"
            ]
          },
          "metadata": {
            "needs_background": "light"
          }
        }
      ]
    },
    {
      "cell_type": "markdown",
      "metadata": {
        "id": "Vh1Sav0juy-s"
      },
      "source": [
        "The figsize = (width, height) can be used to plot a graph with required width and height!"
      ]
    },
    {
      "cell_type": "code",
      "metadata": {
        "colab": {
          "base_uri": "https://localhost:8080/",
          "height": 388
        },
        "id": "g7o86V-Vs069",
        "outputId": "75fa798e-9a3e-4c7e-c158-58de9ae73b2d"
      },
      "source": [
        "a.plot(x = 'brand', y = 'freq', kind = 'bar', figsize = (10,5))"
      ],
      "execution_count": null,
      "outputs": [
        {
          "output_type": "execute_result",
          "data": {
            "text/plain": [
              "<matplotlib.axes._subplots.AxesSubplot at 0x7fb973b67950>"
            ]
          },
          "metadata": {},
          "execution_count": 38
        },
        {
          "output_type": "display_data",
          "data": {
            "image/png": "[encoded data removed]",
            "text/plain": [
              "<Figure size 720x360 with 1 Axes>"
            ]
          },
          "metadata": {
            "needs_background": "light"
          }
        }
      ]
    },
    {
      "cell_type": "markdown",
      "metadata": {
        "id": "HGXNxksGunjP"
      },
      "source": [
        "And our first question is answered! Here are our top 5 brands in terms of number of cars. "
      ]
    },
    {
      "cell_type": "markdown",
      "metadata": {
        "id": "OPJtw9COvgTc"
      },
      "source": [
        "# Q2. Plot a graph for car brands based on number of cars(frequency)"
      ]
    },
    {
      "cell_type": "markdown",
      "metadata": {
        "id": "v1TBKc0NvsNW"
      },
      "source": [
        "Here, we just need to remove the .head() which we used previously to display only top 5 values. Now sice there are more number of brands we can adjust the figure size to increase the width of the graph so that it would be more clear. "
      ]
    },
    {
      "cell_type": "code",
      "metadata": {
        "colab": {
          "base_uri": "https://localhost:8080/",
          "height": 422
        },
        "id": "f2nCWEbiua7S",
        "outputId": "a6900fea-9dcf-4ab5-ef79-ece15524004c"
      },
      "source": [
        "a = []\n",
        "for brand in df['brand'].unique():\n",
        "  a.append([brand, len(df[df['brand'] == brand])])\n",
        "\n",
        "a = pd.DataFrame(a, columns = ['brand', 'freq'])\n",
        "a = a.sort_values(by = 'freq', ascending = False)\n",
        "\n",
        "a.plot(x = 'brand', y = 'freq', kind = 'bar', figsize = (15,5))"
      ],
      "execution_count": null,
      "outputs": [
        {
          "output_type": "execute_result",
          "data": {
            "text/plain": [
              "<matplotlib.axes._subplots.AxesSubplot at 0x7fb973a101d0>"
            ]
          },
          "metadata": {},
          "execution_count": 40
        },
        {
          "output_type": "display_data",
          "data": {
            "image/png": "[encoded data removed]",
            "text/plain": [
              "<Figure size 1080x360 with 1 Axes>"
            ]
          },
          "metadata": {
            "needs_background": "light"
          }
        }
      ]
    },
    {
      "cell_type": "markdown",
      "metadata": {
        "id": "OjHRj5pWw1Oy"
      },
      "source": [
        "# Q3 Car Industry Trend year wise"
      ]
    },
    {
      "cell_type": "code",
      "metadata": {
        "id": "7Q5XdzeEvdv7"
      },
      "source": [
        "data = []\n",
        "for year in df['year'].unique():\n",
        "   data.append([year, len(df[df['year'] == year])])"
      ],
      "execution_count": null,
      "outputs": []
    },
    {
      "cell_type": "code",
      "metadata": {
        "colab": {
          "base_uri": "https://localhost:8080/"
        },
        "id": "s_djJaR7xLjB",
        "outputId": "159273b6-ea78-44c8-84e3-7a69294a4824"
      },
      "source": [
        "data"
      ],
      "execution_count": null,
      "outputs": [
        {
          "output_type": "execute_result",
          "data": {
            "text/plain": [
              "[[2008, 18],\n",
              " [2011, 23],\n",
              " [2018, 395],\n",
              " [2014, 104],\n",
              " [2010, 13],\n",
              " [2017, 377],\n",
              " [2009, 11],\n",
              " [2013, 86],\n",
              " [2015, 196],\n",
              " [2020, 48],\n",
              " [2016, 203],\n",
              " [1973, 1],\n",
              " [2003, 9],\n",
              " [2019, 892],\n",
              " [2002, 2],\n",
              " [2000, 4],\n",
              " [2001, 5],\n",
              " [2005, 6],\n",
              " [2012, 72],\n",
              " [2006, 8],\n",
              " [2007, 6],\n",
              " [1998, 4],\n",
              " [2004, 6],\n",
              " [1994, 2],\n",
              " [1997, 2],\n",
              " [1996, 2],\n",
              " [1999, 1],\n",
              " [1984, 1],\n",
              " [1995, 1],\n",
              " [1993, 1]]"
            ]
          },
          "metadata": {},
          "execution_count": 43
        }
      ]
    },
    {
      "cell_type": "code",
      "metadata": {
        "colab": {
          "base_uri": "https://localhost:8080/",
          "height": 352
        },
        "id": "eYIyhwZNxRvw",
        "outputId": "60e57010-2e5f-4763-d63d-d3fe4eee7a7a"
      },
      "source": [
        "data = pd.DataFrame(data, columns = ['year', 'freq'])\n",
        "data = data.sort_values(by = 'year', ascending = 'True')\n",
        "data.plot(x = 'year', y = 'freq', kind = 'line', figsize = (10, 5))  #Since for trend analysis we generally use line graph, putb kind = 'line'"
      ],
      "execution_count": null,
      "outputs": [
        {
          "output_type": "execute_result",
          "data": {
            "text/plain": [
              "<matplotlib.axes._subplots.AxesSubplot at 0x7fb9738fdb10>"
            ]
          },
          "metadata": {},
          "execution_count": 44
        },
        {
          "output_type": "display_data",
          "data": {
            "image/png": "[encoded data removed]",
            "text/plain": [
              "<Figure size 720x360 with 1 Axes>"
            ]
          },
          "metadata": {
            "needs_background": "light"
          }
        }
      ]
    },
    {
      "cell_type": "markdown",
      "metadata": {
        "id": "Yds2g2gBy6lH"
      },
      "source": [
        "# Q4. Analyse popular car colors."
      ]
    },
    {
      "cell_type": "code",
      "metadata": {
        "colab": {
          "base_uri": "https://localhost:8080/",
          "height": 534
        },
        "id": "LPbYGSmFx1yl",
        "outputId": "06c604cc-1845-400a-f1cf-6e30972df8a9"
      },
      "source": [
        "data = []\n",
        "for color in df['color'].unique():\n",
        "   data.append([color, len(df[df['color'] == color])])\n",
        "\n",
        "data = pd.DataFrame(data, columns = ['color', 'freq'])\n",
        "data = data.sort_values(by = 'freq', ascending = False)\n",
        "data.plot(x = 'color', y = 'freq', kind = 'bar', figsize = (15, 5))"
      ],
      "execution_count": null,
      "outputs": [
        {
          "output_type": "execute_result",
          "data": {
            "text/plain": [
              "<matplotlib.axes._subplots.AxesSubplot at 0x7fb97324dc90>"
            ]
          },
          "metadata": {},
          "execution_count": 51
        },
        {
          "output_type": "display_data",
          "data": {
            "image/png": "[encoded data removed]",
            "text/plain": [
              "<Figure size 1080x360 with 1 Axes>"
            ]
          },
          "metadata": {
            "needs_background": "light"
          }
        }
      ]
    },
    {
      "cell_type": "markdown",
      "metadata": {
        "id": "ZQXU4WXb0p4h"
      },
      "source": [
        "As we have seen, white, black, gray, silver, and red are the top colors dominating the market. "
      ]
    },
    {
      "cell_type": "markdown",
      "metadata": {
        "id": "0mZBKYl91DWr"
      },
      "source": [
        "# Q5. Which car brand is having Maximum Average price?"
      ]
    },
    {
      "cell_type": "markdown",
      "metadata": {
        "id": "vxi4xOzjibFf"
      },
      "source": [
        "This following statement returns brands along with their average prices. "
      ]
    },
    {
      "cell_type": "code",
      "metadata": {
        "colab": {
          "base_uri": "https://localhost:8080/"
        },
        "id": "mhqgIaiszXy4",
        "outputId": "fa793a1e-f955-4e54-8eb3-50dbd8eb50f0"
      },
      "source": [
        "df.groupby('brand').mean()['price']"
      ],
      "execution_count": null,
      "outputs": [
        {
          "output_type": "execute_result",
          "data": {
            "text/plain": [
              "brand\n",
              "acura               7266.666667\n",
              "audi               13981.250000\n",
              "bmw                26397.058824\n",
              "buick              19715.769231\n",
              "cadillac           24941.000000\n",
              "chevrolet          18669.952862\n",
              "chrysler           13686.111111\n",
              "dodge              17781.988426\n",
              "ford               21666.888259\n",
              "gmc                10657.380952\n",
              "harley-davidson    54680.000000\n",
              "heartland           2966.000000\n",
              "honda               6127.500000\n",
              "hyundai             5203.200000\n",
              "infiniti           13098.333333\n",
              "jaguar              2800.000000\n",
              "jeep               10933.833333\n",
              "kia                11123.846154\n",
              "land               28900.000000\n",
              "lexus              33220.000000\n",
              "lincoln            18150.000000\n",
              "maserati           30300.000000\n",
              "mazda               8000.000000\n",
              "mercedes-benz      28704.000000\n",
              "nissan             12065.820513\n",
              "peterbilt            400.000000\n",
              "ram                11050.000000\n",
              "toyota              6300.000000\n",
              "Name: price, dtype: float64"
            ]
          },
          "metadata": {},
          "execution_count": 7
        }
      ]
    },
    {
      "cell_type": "code",
      "metadata": {
        "colab": {
          "base_uri": "https://localhost:8080/"
        },
        "id": "1b1FUkhxiM72",
        "outputId": "d3be0eac-4403-478c-f086-4248bb512350"
      },
      "source": [
        "df.groupby('brand').mean()['price'].sort_values(ascending = False)"
      ],
      "execution_count": null,
      "outputs": [
        {
          "output_type": "execute_result",
          "data": {
            "text/plain": [
              "brand\n",
              "harley-davidson    54680.000000\n",
              "lexus              33220.000000\n",
              "maserati           30300.000000\n",
              "land               28900.000000\n",
              "mercedes-benz      28704.000000\n",
              "bmw                26397.058824\n",
              "cadillac           24941.000000\n",
              "ford               21666.888259\n",
              "buick              19715.769231\n",
              "chevrolet          18669.952862\n",
              "lincoln            18150.000000\n",
              "dodge              17781.988426\n",
              "audi               13981.250000\n",
              "chrysler           13686.111111\n",
              "infiniti           13098.333333\n",
              "nissan             12065.820513\n",
              "kia                11123.846154\n",
              "ram                11050.000000\n",
              "jeep               10933.833333\n",
              "gmc                10657.380952\n",
              "mazda               8000.000000\n",
              "acura               7266.666667\n",
              "toyota              6300.000000\n",
              "honda               6127.500000\n",
              "hyundai             5203.200000\n",
              "heartland           2966.000000\n",
              "jaguar              2800.000000\n",
              "peterbilt            400.000000\n",
              "Name: price, dtype: float64"
            ]
          },
          "metadata": {},
          "execution_count": 8
        }
      ]
    },
    {
      "cell_type": "code",
      "metadata": {
        "colab": {
          "base_uri": "https://localhost:8080/",
          "height": 422
        },
        "id": "uYzesKZGi7GP",
        "outputId": "3f1e2930-558a-4bd9-debc-18cd7e3963d5"
      },
      "source": [
        "df.groupby('brand').mean()['price'].sort_values(ascending = False).plot.bar(figsize = (10,5))"
      ],
      "execution_count": null,
      "outputs": [
        {
          "output_type": "execute_result",
          "data": {
            "text/plain": [
              "<matplotlib.axes._subplots.AxesSubplot at 0x7fafb7d2f690>"
            ]
          },
          "metadata": {},
          "execution_count": 9
        },
        {
          "output_type": "display_data",
          "data": {
            "image/png": "[encoded data removed]",
            "text/plain": [
              "<Figure size 720x360 with 1 Axes>"
            ]
          },
          "metadata": {
            "needs_background": "light"
          }
        }
      ]
    },
    {
      "cell_type": "markdown",
      "metadata": {
        "id": "sUuTEou-kOTY"
      },
      "source": [
        "# Q6. Which state is having most expensive cars?"
      ]
    },
    {
      "cell_type": "code",
      "metadata": {
        "colab": {
          "base_uri": "https://localhost:8080/",
          "height": 418
        },
        "id": "P8jIpUiqjFhj",
        "outputId": "616e6698-b0ca-411d-884f-3bc682f4aa99"
      },
      "source": [
        "df.groupby('state').mean()['price'].sort_values(ascending = False).plot.bar(figsize = (10,5))"
      ],
      "execution_count": null,
      "outputs": [
        {
          "output_type": "execute_result",
          "data": {
            "text/plain": [
              "<matplotlib.axes._subplots.AxesSubplot at 0x7fafb747de90>"
            ]
          },
          "metadata": {},
          "execution_count": 10
        },
        {
          "output_type": "display_data",
          "data": {
            "image/png": "[encoded data removed]",
            "text/plain": [
              "<Figure size 720x360 with 1 Axes>"
            ]
          },
          "metadata": {
            "needs_background": "light"
          }
        }
      ]
    },
    {
      "cell_type": "markdown",
      "metadata": {
        "id": "nQw6grmulBla"
      },
      "source": [
        "<matplotlib.axes._subplots.AxesSubplot at 0x7fafb747de90>\n",
        "\n",
        "This thing which we are getting along with graph is just a reference that using matplot library the graph is drawn. \n",
        "\n",
        "By importing matplotlib we can even remove that, so lets do it too.\n",
        "\n",
        "pyplot means plotting a graph using python. "
      ]
    },
    {
      "cell_type": "code",
      "metadata": {
        "id": "dmNkjS_rku1R"
      },
      "source": [
        "import matplotlib.pyplot as plt"
      ],
      "execution_count": null,
      "outputs": []
    },
    {
      "cell_type": "code",
      "metadata": {
        "colab": {
          "base_uri": "https://localhost:8080/",
          "height": 563
        },
        "id": "UrWEDl4HllaK",
        "outputId": "fd067b2d-e857-46cd-da67-79679418ef9f"
      },
      "source": [
        "plt.figure(figsize = (15,8))\n",
        "df.groupby('state').mean()['price'].sort_values(ascending = False).plot.bar()\n",
        "plt.show()"
      ],
      "execution_count": null,
      "outputs": [
        {
          "output_type": "display_data",
          "data": {
            "image/png": "[encoded data removed]",
            "text/plain": [
              "<Figure size 1080x576 with 1 Axes>"
            ]
          },
          "metadata": {
            "needs_background": "light"
          }
        }
      ]
    },
    {
      "cell_type": "markdown",
      "metadata": {
        "id": "nZCezLAfmPZY"
      },
      "source": [
        "So yeah now that reference has been removed too."
      ]
    },
    {
      "cell_type": "code",
      "metadata": {
        "id": "ghqFlmqPl3HG"
      },
      "source": [
        ""
      ],
      "execution_count": null,
      "outputs": []
    }
  ]
}